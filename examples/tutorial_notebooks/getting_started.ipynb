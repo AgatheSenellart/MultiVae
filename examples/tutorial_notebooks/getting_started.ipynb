{
 "cells": [
  {
   "attachments": {},
   "cell_type": "markdown",
   "metadata": {},
   "source": [
    "# Get started with MultiVae\n",
    "\n",
    "In this tutorial we detail an example on how to define train and evaluate a model with MultiVae."
   ]
  },
  {
   "attachments": {},
   "cell_type": "markdown",
   "metadata": {},
   "source": [
    "## Load dataset\n",
    "\n",
    "As a simple example here (and to allow easy training), we load the MnistAttribute dataset from the library."
   ]
  },
  {
   "cell_type": "code",
   "execution_count": null,
   "metadata": {},
   "outputs": [
    {
     "ename": "",
     "evalue": "",
     "output_type": "error",
     "traceback": [
      "\u001b[1;31mRunning cells with 'multivaenv' requires the ipykernel package.\n",
      "\u001b[1;31mRun the following command to install 'ipykernel' into the Python environment. \n",
      "\u001b[1;31mCommand: 'conda install -n multivaenv ipykernel --update-deps --force-reinstall'"
     ]
    }
   ],
   "source": [
    "from multivae.data.datasets.mnist_labels import BinaryMnistLabels\n",
    "\n",
    "dataset = BinaryMnistLabels('~/scratch/data', 'test',download=True)"
   ]
  },
  {
   "cell_type": "code",
   "execution_count": 2,
   "metadata": {},
   "outputs": [
    {
     "name": "stdout",
     "output_type": "stream",
     "text": [
      "The modalities in that dataset are named ['images', 'labels']\n",
      "The text attribute for this image is tensor([[0., 0., 0., 0., 0., 0., 0., 1., 0., 0.]])\n"
     ]
    },
    {
     "data": {
      "image/png": "[encoded data removed]",
      "text/plain": [
       "<Figure size 640x480 with 1 Axes>"
      ]
     },
     "metadata": {},
     "output_type": "display_data"
    }
   ],
   "source": [
    "# visualize one sample\n",
    "import matplotlib.pyplot as plt\n",
    "sample = dataset[0]\n",
    "\n",
    "# A sample contains a field 'data' with the data for both modalities (here images and labels) and eventual additional fields (labels, masks..)\n",
    "print(f'The modalities in that dataset are named {list(sample.data.keys())}')\n",
    "\n",
    "plt.imshow(sample.data['images'][0], cmap='gray')\n",
    "print(f'The text attribute for this image is {sample.data[\"labels\"]}')\n"
   ]
  },
  {
   "attachments": {},
   "cell_type": "markdown",
   "metadata": {},
   "source": [
    "## Create a model "
   ]
  },
  {
   "cell_type": "code",
   "execution_count": 3,
   "metadata": {},
   "outputs": [],
   "source": [
    "# Import the model of your choice\n",
    "from multivae.models import MVTCAE, MVTCAEConfig"
   ]
  },
  {
   "cell_type": "code",
   "execution_count": 4,
   "metadata": {},
   "outputs": [],
   "source": [
    "# Define the model configuration\n",
    "\n",
    "model_config = MVTCAEConfig(\n",
    "    n_modalities=2,\n",
    "    latent_dim=20,\n",
    "    input_dims= {'images' : (1,28,28), 'labels' : (1,10)},\n",
    "    decoders_dist= {'images' : 'normal', 'labels' : 'categorical'},\n",
    "    \n",
    "    alpha=2./3.,\n",
    "    beta=2.5,\n",
    "    \n",
    "    uses_likelihood_rescaling=True,\n",
    "    rescale_factors=dict(images=1, labels=50)\n",
    ")"
   ]
  },
  {
   "cell_type": "code",
   "execution_count": 5,
   "metadata": {},
   "outputs": [],
   "source": [
    "# Initialize the model\n",
    "\n",
    "# If no encoders/ decoders architectures are specified, default MLPs are used\n",
    "model = MVTCAE(model_config = model_config)"
   ]
  },
  {
   "cell_type": "code",
   "execution_count": 6,
   "metadata": {},
   "outputs": [
    {
     "data": {
      "text/plain": [
       "ModelOutput([('loss', tensor(628.6888, grad_fn=<DivBackward0>)),\n",
       "             ('metrics',\n",
       "              {'joint_divergence': tensor(19.8780, grad_fn=<MulBackward0>),\n",
       "               'images': tensor(8195.0684, grad_fn=<SumBackward0>),\n",
       "               'labels': tensor(1160.0559, grad_fn=<SumBackward0>),\n",
       "               'kld_images': tensor(21.4488, grad_fn=<SumBackward0>),\n",
       "               'kld_labels': tensor(18.8400, grad_fn=<SumBackward0>)})])"
      ]
     },
     "execution_count": 6,
     "metadata": {},
     "output_type": "execute_result"
    }
   ],
   "source": [
    "# check that everything works\n",
    "model(dataset[:10])"
   ]
  },
  {
   "cell_type": "code",
   "execution_count": 7,
   "metadata": {},
   "outputs": [
    {
     "data": {
      "text/plain": [
       "<matplotlib.image.AxesImage at 0x130021580>"
      ]
     },
     "execution_count": 7,
     "metadata": {},
     "output_type": "execute_result"
    },
    {
     "data": {
      "image/png": "[encoded data removed]",
      "text/plain": [
       "<Figure size 640x480 with 1 Axes>"
      ]
     },
     "metadata": {},
     "output_type": "display_data"
    }
   ],
   "source": [
    "# Predict before training\n",
    "\n",
    "from multivae.data import MultimodalBaseDataset\n",
    "model.eval()\n",
    "data = model.predict(\n",
    "    inputs=dataset[0],\n",
    "    cond_mod='labels',\n",
    ")\n",
    "\n",
    "\n",
    "plt.imshow(data['images'][0][0], cmap='gray')"
   ]
  },
  {
   "attachments": {},
   "cell_type": "markdown",
   "metadata": {},
   "source": [
    "## Using custom architectures\n",
    "\n",
    "You can use custom architectures with any modalities and for each modality. \n",
    "Below we define two simple convolutional architecture that can be used to encode the MNIST images. "
   ]
  },
  {
   "cell_type": "code",
   "execution_count": 8,
   "metadata": {},
   "outputs": [],
   "source": [
    "from multivae.models.base import BaseEncoder, BaseDecoder, ModelOutput\n",
    "import torch\n",
    "\n",
    "# The custom encoder must be an instance of the BaseEncoder class\n",
    "class ImageEncoder(BaseEncoder):\n",
    "    \n",
    "    \"A simple custom convolutional architecture to use on MNIST images.\"\n",
    "    \n",
    "    def __init__(self):\n",
    "        super().__init__()\n",
    "        self.latent_dim = 20 \n",
    "        \n",
    "        self.conv_net = torch.nn.Sequential(\n",
    "            torch.nn.Conv2d(1, 8, 3, stride=2, padding=1),\n",
    "            torch.nn.ReLU(True),\n",
    "            torch.nn.Conv2d(8, 16, 3, stride=2, padding=1),\n",
    "            torch.nn.ReLU(True),\n",
    "            torch.nn.Conv2d(16, 32, 3, stride=2, padding=0),\n",
    "            torch.nn.ReLU(True),\n",
    "            torch.nn.Flatten(start_dim=1)\n",
    "        )\n",
    "        \n",
    "\n",
    "        self.embedding_layer = torch.nn.Sequential(\n",
    "            torch.nn.Linear(3 * 3 * 32, self.latent_dim)\n",
    "        )\n",
    "        self.covariance_layer = torch.nn.Sequential(\n",
    "            torch.nn.Linear(3 * 3 * 32, self.latent_dim)\n",
    "        )\n",
    "        \n",
    "    def forward(self, x):\n",
    "        h = self.conv_net(x)\n",
    "        \n",
    "        #### The output of the variational encoder must be a ModelOutput instance \n",
    "        #### with an embedding field and log_covariance field\n",
    "        \n",
    "        return ModelOutput(\n",
    "            embedding = self.embedding_layer(h),\n",
    "            log_covariance = self.covariance_layer(h)\n",
    "        )\n",
    "    \n",
    "# The custom decoder must be an instance of the BaseDecoder class\n",
    "class ImageDecoder(BaseDecoder):\n",
    "    \n",
    "    def __init__(self):\n",
    "        \n",
    "        super().__init__()\n",
    "        self.linear = torch.nn.Sequential(\n",
    "            torch.nn.Linear(20, 3*3*32),\n",
    "            torch.nn.ReLU(True),\n",
    "            torch.nn.Unflatten(dim=1,\n",
    "            unflattened_size=(32, 3, 3))\n",
    "        )\n",
    "\n",
    "\n",
    "        self.conv_net = torch.nn.Sequential(\n",
    "            torch.nn.ConvTranspose2d(32, 16, 3, \n",
    "            stride=2, output_padding=0),\n",
    "            torch.nn.ReLU(True),\n",
    "            torch.nn.ConvTranspose2d(16, 8, 3, stride=2, \n",
    "            padding=1, output_padding=1),\n",
    "            torch.nn.ReLU(True),\n",
    "            torch.nn.ConvTranspose2d(8, 1, 3, stride=2, \n",
    "            padding=1, output_padding=1),\n",
    "            \n",
    "        )\n",
    "        \n",
    "    def forward(self, x):\n",
    "        h = self.linear(x)\n",
    "        h = self.conv_net(h)\n",
    "        x = torch.sigmoid(h)\n",
    "        \n",
    "        #### The output must be a ModelOutput instance with a 'reconstruction' field\n",
    "        return ModelOutput(reconstruction = x)\n",
    "    \n",
    "    "
   ]
  },
  {
   "attachments": {},
   "cell_type": "markdown",
   "metadata": {},
   "source": [
    "Here we instantiate a model with custom architectures provided. Note that for the labels, we use the same architectures that are provided by default when 'encoders = None' or 'decoders = None'."
   ]
  },
  {
   "cell_type": "code",
   "execution_count": 9,
   "metadata": {},
   "outputs": [],
   "source": [
    "from multivae.models.nn.default_architectures import Encoder_VAE_MLP, Decoder_AE_MLP, BaseAEConfig\n",
    "\n",
    "label_encoder = Encoder_VAE_MLP(BaseAEConfig(input_dim = (10,), latent_dim=20))\n",
    "label_decoder = Decoder_AE_MLP(BaseAEConfig(input_dim=(10,), latent_dim=20))\n",
    "\n",
    "model_custom = MVTCAE(model_config=model_config,\n",
    "               encoders = dict(images = ImageEncoder(), labels=label_encoder),\n",
    "               decoders=dict(images = ImageDecoder(), labels=label_decoder))"
   ]
  },
  {
   "attachments": {},
   "cell_type": "markdown",
   "metadata": {},
   "source": [
    "## Training"
   ]
  },
  {
   "cell_type": "code",
   "execution_count": 10,
   "metadata": {},
   "outputs": [
    {
     "name": "stderr",
     "output_type": "stream",
     "text": [
      "! No eval dataset provided ! -> keeping best model on train.\n",
      "\n",
      "Model passed sanity check !\n",
      "Ready for training.\n",
      "\n",
      "Setting the optimizer with learning rate 0.01\n",
      "Created dummy_output_dir/MVTCAE_training_2023-05-28_15-24-56. \n",
      "Training config, checkpoints and final model will be saved here.\n",
      "\n",
      "Training params:\n",
      " - max_epochs: 1\n",
      " - per_device_train_batch_size: 64\n",
      " - per_device_eval_batch_size: 64\n",
      " - checkpoint saving every: None\n",
      "Optimizer: Adam (\n",
      "Parameter Group 0\n",
      "    amsgrad: False\n",
      "    betas: (0.9, 0.999)\n",
      "    capturable: False\n",
      "    differentiable: False\n",
      "    eps: 1e-08\n",
      "    foreach: None\n",
      "    fused: False\n",
      "    lr: 0.01\n",
      "    maximize: False\n",
      "    weight_decay: 0\n",
      ")\n",
      "Scheduler: None\n",
      "\n",
      "Successfully launched training !\n",
      "\n",
      "Training of epoch 1/1: 100%|██████████| 157/157 [00:04<00:00, 34.30batch/s]\n",
      "--------------------------------------------------------------------------\n",
      "Train loss: 562.0554\n",
      "--------------------------------------------------------------------------\n",
      "Training ended!\n",
      "Saved final model in dummy_output_dir/MVTCAE_training_2023-05-28_15-24-56/final_model\n"
     ]
    }
   ],
   "source": [
    "from multivae.trainers import BaseTrainer, BaseTrainerConfig\n",
    "\n",
    "trainer_config = BaseTrainerConfig(\n",
    "    num_epochs=1,\n",
    "    learning_rate=1e-2,\n",
    "    \n",
    ")\n",
    "\n",
    "trainer = BaseTrainer(\n",
    "    model=model,\n",
    "    training_config=trainer_config,\n",
    "    train_dataset=dataset\n",
    "    )\n",
    "\n",
    "trainer.train()"
   ]
  },
  {
   "cell_type": "code",
   "execution_count": 11,
   "metadata": {},
   "outputs": [
    {
     "data": {
      "image/png": "[encoded data removed]",
      "text/plain": [
       "<Figure size 640x480 with 4 Axes>"
      ]
     },
     "metadata": {},
     "output_type": "display_data"
    }
   ],
   "source": [
    "# Predict after training\n",
    "\n",
    "from multivae.data import MultimodalBaseDataset\n",
    "\n",
    "# images from label : show a few samples \n",
    "data = model.predict(\n",
    "    inputs=dataset[0],\n",
    "    cond_mod='labels',\n",
    "    N = 4,\n",
    ")\n",
    "\n",
    "fig, ax = plt.subplots(1,4)\n",
    "for i in range(4):\n",
    "    ax[i].imshow(data['images'][i][0][0], cmap='gray')"
   ]
  },
  {
   "attachments": {},
   "cell_type": "markdown",
   "metadata": {},
   "source": [
    "## Computing metrics"
   ]
  },
  {
   "cell_type": "code",
   "execution_count": 12,
   "metadata": {},
   "outputs": [
    {
     "name": "stderr",
     "output_type": "stream",
     "text": [
      "100%|██████████| 79/79 [00:58<00:00,  1.36it/s]\n",
      "Joint likelihood : tensor(753.3777)\n"
     ]
    },
    {
     "data": {
      "text/plain": [
       "ModelOutput([('joint_likelihood', tensor(753.3777))])"
      ]
     },
     "execution_count": 12,
     "metadata": {},
     "output_type": "execute_result"
    }
   ],
   "source": [
    "from multivae.metrics.likelihoods import LikelihoodsEvaluator, LikelihoodsEvaluatorConfig\n",
    "\n",
    "ll_config = LikelihoodsEvaluatorConfig(\n",
    "    batch_size=128,\n",
    "    num_samples=100)\n",
    "\n",
    "ll = LikelihoodsEvaluator(\n",
    "    model,dataset,eval_config=ll_config\n",
    ")\n",
    "\n",
    "ll.eval()"
   ]
  },
  {
   "cell_type": "code",
   "execution_count": null,
   "metadata": {},
   "outputs": [],
   "source": []
  }
 ],
 "metadata": {
  "kernelspec": {
   "display_name": ".venv",
   "language": "python",
   "name": "python3"
  },
  "language_info": {
   "codemirror_mode": {
    "name": "ipython",
    "version": 3
   },
   "file_extension": ".py",
   "mimetype": "text/x-python",
   "name": "python",
   "nbconvert_exporter": "python",
   "pygments_lexer": "ipython3",
   "version": "3.10.9"
  },
  "orig_nbformat": 4
 },
 "nbformat": 4,
 "nbformat_minor": 2
}
