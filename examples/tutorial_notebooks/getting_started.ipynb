{
 "cells": [
  {
   "attachments": {},
   "cell_type": "markdown",
   "metadata": {},
   "source": [
    "# Get started with MultiVae\n",
    "\n",
    "In this tutorial we detail a simple example on how to train and evaluate a model with MultiVae."
   ]
  },
  {
   "attachments": {},
   "cell_type": "markdown",
   "metadata": {},
   "source": [
    "## Load a toy dataset\n",
    "\n",
    "As a toy example here (and to allow fast training), we load the MnistLabels dataset from the library.\n",
    "The first modality is the image and the second \"modality\" is the label. "
   ]
  },
  {
   "cell_type": "code",
   "execution_count": 9,
   "metadata": {},
   "outputs": [],
   "source": [
    "from multivae.data.datasets.mnist_labels import MnistLabels\n",
    "\n",
    "DATA_PATH = './data' # Set the path where to download the data\n",
    "dataset = MnistLabels(DATA_PATH, 'test',download=True) # Set download to True"
   ]
  },
  {
   "cell_type": "markdown",
   "metadata": {},
   "source": [
    "For all datasets in MultiVae, the ```__getitem__``` function returns a ```~pythae.data.datasets.DatasetOutput``` class which contains a field `data` with all modalities (here 'images' and 'labels')"
   ]
  },
  {
   "cell_type": "code",
   "execution_count": 10,
   "metadata": {},
   "outputs": [
    {
     "name": "stdout",
     "output_type": "stream",
     "text": [
      "The modalities in that dataset are named ['images', 'labels']\n",
      "The text attribute for this image is tensor([[0., 0., 0., 0., 0., 0., 0., 1., 0., 0.]])\n"
     ]
    },
    {
     "data": {
      "image/png": "[encoded data removed]",
      "text/plain": [
       "<Figure size 640x480 with 1 Axes>"
      ]
     },
     "metadata": {},
     "output_type": "display_data"
    }
   ],
   "source": [
    "# Visualize one sample\n",
    "import matplotlib.pyplot as plt\n",
    "sample = dataset[0]\n",
    "\n",
    "# A sample contains a field 'data' with the data for both modalities (here images and labels) and eventual additional fields (labels, masks..)\n",
    "print(f'The modalities in that dataset are named {list(sample.data.keys())}')\n",
    "\n",
    "plt.imshow(sample.data['images'][0], cmap='gray')\n",
    "print(f'The text attribute for this image is {sample.data[\"labels\"]}')\n"
   ]
  },
  {
   "attachments": {},
   "cell_type": "markdown",
   "metadata": {},
   "source": [
    "## Create a model \n",
    "\n",
    "Now that we have our dataset, we can import the model of our choice. To have a list of available models, you can look at the documentation [here](https://multivae.readthedocs.io/en/latest/models/multivae.models.html). In the documentation, you also have a description of each model's hyperparameters. "
   ]
  },
  {
   "cell_type": "code",
   "execution_count": 12,
   "metadata": {},
   "outputs": [],
   "source": [
    "# Import the model of your choice\n",
    "from multivae.models import MVTCAE, MVTCAEConfig"
   ]
  },
  {
   "cell_type": "code",
   "execution_count": 13,
   "metadata": {},
   "outputs": [],
   "source": [
    "# Define the model configuration\n",
    "\n",
    "model_config = MVTCAEConfig(\n",
    "    n_modalities=2,\n",
    "    latent_dim=20,\n",
    "    input_dims= {'images' : (1,28,28), 'labels' : (1,10)},\n",
    "    decoders_dist= {'images' : 'normal', 'labels' : 'categorical'}, # Distributions to use for the decoders. It defines the reconstruction loss.\n",
    "    \n",
    "    alpha=2./3.,\n",
    "    beta=2.5,\n",
    "    \n",
    "    uses_likelihood_rescaling=True,\n",
    "    rescale_factors=dict(images=1, labels=50)\n",
    ")"
   ]
  },
  {
   "cell_type": "markdown",
   "metadata": {},
   "source": [
    "Here we will use the default Multi-Layer-Perceptron architectures. Of course for more complex use-cases, you might want to provide your own architectures through the encoders/ decoders argument of the model. We will see how to do that in the next section of this notebook. "
   ]
  },
  {
   "cell_type": "code",
   "execution_count": 16,
   "metadata": {},
   "outputs": [],
   "source": [
    "# Initialize the model\n",
    "\n",
    "# If no encoders/ decoders architectures are specified, default MLPs are used\n",
    "model = MVTCAE(model_config = model_config)"
   ]
  },
  {
   "cell_type": "code",
   "execution_count": 17,
   "metadata": {},
   "outputs": [
    {
     "data": {
      "text/plain": [
       "ModelOutput([('loss', tensor(628.3367, grad_fn=<DivBackward0>)),\n",
       "             ('loss_sum', tensor(6283.3667, grad_fn=<AddBackward0>)),\n",
       "             ('metrics',\n",
       "              {'joint_divergence': tensor(19.6089, grad_fn=<MulBackward0>),\n",
       "               'images': tensor(8192.8711, grad_fn=<SumBackward0>),\n",
       "               'labels': tensor(1159.0118, grad_fn=<SumBackward0>),\n",
       "               'kld_images': tensor(19.7253, grad_fn=<SumBackward0>),\n",
       "               'kld_labels': tensor(19.1992, grad_fn=<SumBackward0>)})])"
      ]
     },
     "execution_count": 17,
     "metadata": {},
     "output_type": "execute_result"
    }
   ],
   "source": [
    "# check that everything works\n",
    "model(dataset[:10])"
   ]
  },
  {
   "cell_type": "markdown",
   "metadata": {},
   "source": [
    "The forward function of the model computes the mean loss on the batch as well as some metrics. \n"
   ]
  },
  {
   "attachments": {},
   "cell_type": "markdown",
   "metadata": {},
   "source": [
    "## Using custom architectures\n",
    "\n",
    "You can use custom architectures instead of the default ones. Your architectures simply need to inherit from the [BaseEncoder](https://pythae.readthedocs.io/en/latest/models/nn/pythae_base_nn.html#pythae.models.nn.BaseEncoder) class and the [BaseDecoder](https://pythae.readthedocs.io/en/latest/models/nn/pythae_base_nn.html#pythae.models.nn.BaseDecoder) class. \n",
    "Below we define two simple convolutional architecture that can be used to encode the MNIST images. "
   ]
  },
  {
   "cell_type": "code",
   "execution_count": 18,
   "metadata": {},
   "outputs": [],
   "source": [
    "from multivae.models.base import BaseEncoder, BaseDecoder, ModelOutput\n",
    "import torch\n",
    "\n",
    "# The custom encoder must be an instance of the BaseEncoder class\n",
    "class ImageEncoder(BaseEncoder):\n",
    "    \n",
    "    \"A simple custom convolutional architecture to use on MNIST images.\"\n",
    "    \n",
    "    def __init__(self):\n",
    "        super().__init__()\n",
    "        self.latent_dim = 20 \n",
    "        \n",
    "        self.conv_net = torch.nn.Sequential(\n",
    "            torch.nn.Conv2d(1, 8, 3, stride=2, padding=1),\n",
    "            torch.nn.ReLU(True),\n",
    "            torch.nn.Conv2d(8, 16, 3, stride=2, padding=1),\n",
    "            torch.nn.ReLU(True),\n",
    "            torch.nn.Conv2d(16, 32, 3, stride=2, padding=0),\n",
    "            torch.nn.ReLU(True),\n",
    "            torch.nn.Flatten(start_dim=1)\n",
    "        )\n",
    "        \n",
    "\n",
    "        self.embedding_layer = torch.nn.Sequential(\n",
    "            torch.nn.Linear(3 * 3 * 32, self.latent_dim)\n",
    "        )\n",
    "        self.covariance_layer = torch.nn.Sequential(\n",
    "            torch.nn.Linear(3 * 3 * 32, self.latent_dim)\n",
    "        )\n",
    "        \n",
    "    def forward(self, x):\n",
    "        h = self.conv_net(x)\n",
    "        \n",
    "        #### The output of the variational encoder must be a ModelOutput instance \n",
    "        #### with an embedding field and log_covariance field\n",
    "        \n",
    "        return ModelOutput(\n",
    "            embedding = self.embedding_layer(h),\n",
    "            log_covariance = self.covariance_layer(h)\n",
    "        )\n",
    "    \n",
    "# The custom decoder must be an instance of the BaseDecoder class\n",
    "class ImageDecoder(BaseDecoder):\n",
    "    \n",
    "    def __init__(self):\n",
    "        \n",
    "        super().__init__()\n",
    "        self.linear = torch.nn.Sequential(\n",
    "            torch.nn.Linear(20, 3*3*32),\n",
    "            torch.nn.ReLU(True),\n",
    "            torch.nn.Unflatten(dim=1,\n",
    "            unflattened_size=(32, 3, 3))\n",
    "        )\n",
    "\n",
    "\n",
    "        self.conv_net = torch.nn.Sequential(\n",
    "            torch.nn.ConvTranspose2d(32, 16, 3, \n",
    "            stride=2, output_padding=0),\n",
    "            torch.nn.ReLU(True),\n",
    "            torch.nn.ConvTranspose2d(16, 8, 3, stride=2, \n",
    "            padding=1, output_padding=1),\n",
    "            torch.nn.ReLU(True),\n",
    "            torch.nn.ConvTranspose2d(8, 1, 3, stride=2, \n",
    "            padding=1, output_padding=1),\n",
    "            \n",
    "        )\n",
    "        \n",
    "    def forward(self, x):\n",
    "        h = self.linear(x)\n",
    "        h = self.conv_net(h)\n",
    "        x = torch.sigmoid(h)\n",
    "        \n",
    "        #### The output must be a ModelOutput instance with a 'reconstruction' field\n",
    "        return ModelOutput(reconstruction = x)\n",
    "    \n",
    "    "
   ]
  },
  {
   "attachments": {},
   "cell_type": "markdown",
   "metadata": {},
   "source": [
    "Here we instantiate a model with custom architectures provided. Note that for the labels, we use simple MLPs from the MultiVae library."
   ]
  },
  {
   "cell_type": "code",
   "execution_count": 20,
   "metadata": {},
   "outputs": [],
   "source": [
    "from multivae.models.nn.default_architectures import Encoder_VAE_MLP, Decoder_AE_MLP, BaseAEConfig\n",
    "\n",
    "label_encoder = Encoder_VAE_MLP(BaseAEConfig(input_dim = (10,), latent_dim=20))\n",
    "label_decoder = Decoder_AE_MLP(BaseAEConfig(input_dim=(10,), latent_dim=20))\n",
    "\n",
    "model_custom = MVTCAE(model_config=model_config,\n",
    "               encoders = dict(images = ImageEncoder(), labels=label_encoder),\n",
    "               decoders=dict(images = ImageDecoder(), labels=label_decoder))"
   ]
  },
  {
   "cell_type": "code",
   "execution_count": 21,
   "metadata": {},
   "outputs": [
    {
     "data": {
      "text/plain": [
       "ModelOutput([('loss', tensor(1307.8213, grad_fn=<DivBackward0>)),\n",
       "             ('loss_sum', tensor(13078.2129, grad_fn=<AddBackward0>)),\n",
       "             ('metrics',\n",
       "              {'joint_divergence': tensor(19.3067, grad_fn=<MulBackward0>),\n",
       "               'images': tensor(8025.1890, grad_fn=<SumBackward0>),\n",
       "               'labels': tensor(11519.3818, grad_fn=<SumBackward0>),\n",
       "               'kld_images': tensor(19.3244, grad_fn=<SumBackward0>),\n",
       "               'kld_labels': tensor(19.5676, grad_fn=<SumBackward0>)})])"
      ]
     },
     "execution_count": 21,
     "metadata": {},
     "output_type": "execute_result"
    }
   ],
   "source": [
    "# check that everything works\n",
    "model_custom(dataset[:10])"
   ]
  },
  {
   "attachments": {},
   "cell_type": "markdown",
   "metadata": {},
   "source": [
    "## Training\n",
    "\n",
    "In MultiVae, training can be easily performed using the MultiVae's trainers. Below we define a simple trainer and use it for training our model. \n",
    "Many arguments can be passed on to `BaseTrainerConfig`: check out the [documentation](https://multivae.readthedocs.io/en/latest/trainers/base.html#multivae.trainers.BaseTrainer) for more details. "
   ]
  },
  {
   "cell_type": "code",
   "execution_count": 24,
   "metadata": {},
   "outputs": [
    {
     "name": "stderr",
     "output_type": "stream",
     "text": [
      "! No eval dataset provided ! -> keeping best model on train.\n",
      "\n",
      "Model passed sanity check !\n",
      "Ready for training.\n",
      "\n",
      "Setting the optimizer with learning rate 0.01\n",
      "Created dummy_output_dir/MVTCAE_training_2025-02-24_10-22-27. \n",
      "Training config, checkpoints and final model will be saved here.\n",
      "\n"
     ]
    }
   ],
   "source": [
    "from multivae.trainers import BaseTrainer, BaseTrainerConfig\n",
    "\n",
    "#Define the training configuration\n",
    "trainer_config = BaseTrainerConfig(\n",
    "    num_epochs=10,\n",
    "    learning_rate=1e-2, \n",
    "    optimizer_cls='Adam',\n",
    "    output_dir='dummy_output_dir'\n",
    "    \n",
    ")\n",
    "\n",
    "# Define the trainer\n",
    "trainer = BaseTrainer(\n",
    "    model=model,\n",
    "    training_config=trainer_config,\n",
    "    train_dataset=dataset\n",
    "    )\n",
    "\n"
   ]
  },
  {
   "cell_type": "code",
   "execution_count": 25,
   "metadata": {},
   "outputs": [
    {
     "name": "stderr",
     "output_type": "stream",
     "text": [
      "Training params:\n",
      " - max_epochs: 10\n",
      " - per_device_train_batch_size: 64\n",
      " - per_device_eval_batch_size: 64\n",
      " - checkpoint saving every: None\n",
      "Optimizer: Adam (\n",
      "Parameter Group 0\n",
      "    amsgrad: False\n",
      "    betas: (0.9, 0.999)\n",
      "    capturable: False\n",
      "    differentiable: False\n",
      "    eps: 1e-08\n",
      "    foreach: None\n",
      "    fused: None\n",
      "    lr: 0.01\n",
      "    maximize: False\n",
      "    weight_decay: 0\n",
      ")\n",
      "Scheduler: None\n",
      "\n",
      "Successfully launched training !\n",
      "\n",
      "Training of epoch 1/10:  95%|█████████▍| 149/157 [00:01<00:00, 101.61batch/s]New best model on train saved!\n",
      "Training of epoch 1/10: 100%|██████████| 157/157 [00:01<00:00, 98.24batch/s] \n",
      "--------------------------------------------------------------------------\n",
      "Train loss: 559.0608\n",
      "--------------------------------------------------------------------------\n",
      "Training of epoch 2/10:  94%|█████████▎| 147/157 [00:01<00:00, 99.72batch/s]New best model on train saved!\n",
      "Training of epoch 2/10: 100%|██████████| 157/157 [00:01<00:00, 98.42batch/s]\n",
      "--------------------------------------------------------------------------\n",
      "Train loss: 558.526\n",
      "--------------------------------------------------------------------------\n",
      "Training of epoch 3/10:  97%|█████████▋| 152/157 [00:01<00:00, 102.39batch/s]New best model on train saved!\n",
      "Training of epoch 3/10: 100%|██████████| 157/157 [00:01<00:00, 100.33batch/s]\n",
      "--------------------------------------------------------------------------\n",
      "Train loss: 558.2096\n",
      "--------------------------------------------------------------------------\n",
      "Training of epoch 4/10:  98%|█████████▊| 154/157 [00:01<00:00, 101.86batch/s]New best model on train saved!\n",
      "Training of epoch 4/10: 100%|██████████| 157/157 [00:01<00:00, 101.06batch/s]\n",
      "--------------------------------------------------------------------------\n",
      "Train loss: 557.8896\n",
      "--------------------------------------------------------------------------\n",
      "Training of epoch 5/10:  97%|█████████▋| 153/157 [00:01<00:00, 102.04batch/s]New best model on train saved!\n",
      "Training of epoch 5/10: 100%|██████████| 157/157 [00:01<00:00, 100.91batch/s]\n",
      "--------------------------------------------------------------------------\n",
      "Train loss: 557.5799\n",
      "--------------------------------------------------------------------------\n",
      "Training of epoch 6/10: 100%|██████████| 157/157 [00:01<00:00, 99.60batch/s] \n",
      "--------------------------------------------------------------------------\n",
      "Train loss: 557.6723\n",
      "--------------------------------------------------------------------------\n",
      "Training of epoch 7/10:  97%|█████████▋| 152/157 [00:01<00:00, 100.93batch/s]New best model on train saved!\n",
      "Training of epoch 7/10: 100%|██████████| 157/157 [00:01<00:00, 98.92batch/s] \n",
      "--------------------------------------------------------------------------\n",
      "Train loss: 557.3774\n",
      "--------------------------------------------------------------------------\n",
      "Training of epoch 8/10:  96%|█████████▌| 150/157 [00:01<00:00, 100.80batch/s]New best model on train saved!\n",
      "Training of epoch 8/10: 100%|██████████| 157/157 [00:01<00:00, 98.97batch/s] \n",
      "--------------------------------------------------------------------------\n",
      "Train loss: 557.3164\n",
      "--------------------------------------------------------------------------\n",
      "Training of epoch 9/10: 100%|██████████| 157/157 [00:01<00:00, 110.40batch/s]New best model on train saved!\n",
      "Training of epoch 9/10: 100%|██████████| 157/157 [00:01<00:00, 104.77batch/s]\n",
      "--------------------------------------------------------------------------\n",
      "Train loss: 557.2829\n",
      "--------------------------------------------------------------------------\n",
      "Training of epoch 10/10:  93%|█████████▎| 146/157 [00:01<00:00, 110.19batch/s]New best model on train saved!\n",
      "Training of epoch 10/10: 100%|██████████| 157/157 [00:01<00:00, 107.66batch/s]\n",
      "--------------------------------------------------------------------------\n",
      "Train loss: 557.0842\n",
      "--------------------------------------------------------------------------\n",
      "Training ended!\n",
      "Saved final model in dummy_output_dir/MVTCAE_training_2025-02-24_10-22-27/final_model\n"
     ]
    }
   ],
   "source": [
    "# Now we train:\n",
    "\n",
    "trainer.train() "
   ]
  },
  {
   "cell_type": "markdown",
   "metadata": {},
   "source": [
    "After training, we can reload the best model saved by the trainer. "
   ]
  },
  {
   "cell_type": "code",
   "execution_count": 28,
   "metadata": {},
   "outputs": [],
   "source": [
    "from multivae.models.auto_model import AutoModel\n",
    "\n",
    "best_model = AutoModel.load_from_folder(f'{trainer.training_dir}/final_model') # Copy the path to final model."
   ]
  },
  {
   "cell_type": "markdown",
   "metadata": {},
   "source": [
    "Now we can call the `predict` function of the model to generate some samples, conditioning on a specific label. "
   ]
  },
  {
   "cell_type": "code",
   "execution_count": 34,
   "metadata": {},
   "outputs": [
    {
     "name": "stdout",
     "output_type": "stream",
     "text": [
      "Images generated by conditioning on label =  tensor([[0., 0., 0., 0., 0., 0., 0., 1., 0., 0.]])\n"
     ]
    },
    {
     "data": {
      "image/png": "[encoded data removed]",
      "text/plain": [
       "<Figure size 640x480 with 4 Axes>"
      ]
     },
     "metadata": {},
     "output_type": "display_data"
    }
   ],
   "source": [
    "best_model = best_model.eval()\n",
    "\n",
    "# images from label : show a few samples \n",
    "predictions = best_model.predict(\n",
    "    inputs=dataset[0],\n",
    "    cond_mod='labels', # The labels will be used as the conditioning modality\n",
    "    N = 4, # We generate 4 samples\n",
    ")\n",
    "\n",
    "# Plot\n",
    "print(\"Images generated by conditioning on label = \", dataset[0].data['labels'])\n",
    "fig, ax = plt.subplots(1,4)\n",
    "for i in range(4):\n",
    "    ax[i].imshow(predictions['images'][i][0][0].detach(), cmap='gray')"
   ]
  },
  {
   "attachments": {},
   "cell_type": "markdown",
   "metadata": {},
   "source": [
    "## Computing metrics\n",
    "\n",
    "To further evaluate your model, you can compute some metrics like likelihoods, coherence, clustering metrics, reconstruction metrics, or additional visualization. You can check out the [documentation](https://multivae.readthedocs.io/en/latest/metrics/multivae.metrics.html) for more details."
   ]
  },
  {
   "cell_type": "code",
   "execution_count": 36,
   "metadata": {},
   "outputs": [
    {
     "name": "stderr",
     "output_type": "stream",
     "text": [
      "100%|██████████| 79/79 [00:15<00:00,  5.19it/s]\n",
      "Joint likelihood : tensor(752.7989)\n"
     ]
    },
    {
     "data": {
      "text/plain": [
       "ModelOutput([('joint_likelihood', tensor(752.7989))])"
      ]
     },
     "execution_count": 36,
     "metadata": {},
     "output_type": "execute_result"
    }
   ],
   "source": [
    "from multivae.metrics.likelihoods import LikelihoodsEvaluator, LikelihoodsEvaluatorConfig\n",
    "\n",
    "ll_config = LikelihoodsEvaluatorConfig(\n",
    "    batch_size=128,\n",
    "    num_samples=100)\n",
    "\n",
    "ll = LikelihoodsEvaluator(\n",
    "    best_model,dataset,eval_config=ll_config\n",
    ")\n",
    "\n",
    "ll.eval() #might take some time"
   ]
  }
 ],
 "metadata": {
  "kernelspec": {
   "display_name": "multivaenv",
   "language": "python",
   "name": "python3"
  },
  "language_info": {
   "codemirror_mode": {
    "name": "ipython",
    "version": 3
   },
   "file_extension": ".py",
   "mimetype": "text/x-python",
   "name": "python",
   "nbconvert_exporter": "python",
   "pygments_lexer": "ipython3",
   "version": "3.10.9"
  },
  "orig_nbformat": 4
 },
 "nbformat": 4,
 "nbformat_minor": 2
}
