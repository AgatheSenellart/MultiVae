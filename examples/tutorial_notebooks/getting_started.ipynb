{
 "cells": [
  {
   "attachments": {},
   "cell_type": "markdown",
   "metadata": {},
   "source": [
    "# Get started with MultiVae\n",
    "\n",
    "In this tutorial we detail an example on how to define train and evaluate a model with MultiVae."
   ]
  },
  {
   "attachments": {},
   "cell_type": "markdown",
   "metadata": {},
   "source": [
    "## Load dataset\n",
    "\n",
    "As a simple example here (and to allow easy training), we load the MnistAttribute dataset from the library."
   ]
  },
  {
   "cell_type": "code",
   "execution_count": 1,
   "metadata": {},
   "outputs": [
    {
     "name": "stderr",
     "output_type": "stream",
     "text": [
      "/Users/agathe/dev/multimodal_vaes/.venv/lib/python3.9/site-packages/tqdm/auto.py:22: TqdmWarning: IProgress not found. Please update jupyter and ipywidgets. See https://ipywidgets.readthedocs.io/en/stable/user_install.html\n",
      "  from .autonotebook import tqdm as notebook_tqdm\n"
     ]
    }
   ],
   "source": [
    "from multivae.data.datasets.mnist_labels import BinaryMnistLabels\n",
    "\n",
    "dataset = BinaryMnistLabels('~/scratch/data', 'test',download=True)"
   ]
  },
  {
   "cell_type": "code",
   "execution_count": 2,
   "metadata": {},
   "outputs": [
    {
     "name": "stdout",
     "output_type": "stream",
     "text": [
      "The modalities in that dataset are named ['images', 'labels']\n",
      "The text attribute for this image is tensor([[0., 0., 0., 0., 0., 0., 0., 1., 0., 0.]])\n"
     ]
    },
    {
     "data": {
      "image/png": "[encoded data removed]",
      "text/plain": [
       "<Figure size 640x480 with 1 Axes>"
      ]
     },
     "metadata": {},
     "output_type": "display_data"
    }
   ],
   "source": [
    "# visualize one sample\n",
    "import matplotlib.pyplot as plt\n",
    "sample = dataset[0]\n",
    "\n",
    "# A sample contains a field 'data' with the data for both modalities (here images and labels) and eventual additional fields (labels, masks..)\n",
    "print(f'The modalities in that dataset are named {list(sample.data.keys())}')\n",
    "\n",
    "plt.imshow(sample.data['images'][0], cmap='gray')\n",
    "print(f'The text attribute for this image is {sample.data[\"labels\"]}')\n"
   ]
  },
  {
   "attachments": {},
   "cell_type": "markdown",
   "metadata": {},
   "source": [
    "## Create a model "
   ]
  },
  {
   "cell_type": "code",
   "execution_count": 3,
   "metadata": {},
   "outputs": [],
   "source": [
    "# Import the model of your choice\n",
    "from multivae.models import MVTCAE, MVTCAEConfig"
   ]
  },
  {
   "cell_type": "code",
   "execution_count": 33,
   "metadata": {},
   "outputs": [],
   "source": [
    "# Define the model configuration\n",
    "\n",
    "model_config = MVTCAEConfig(\n",
    "    n_modalities=2,\n",
    "    latent_dim=20,\n",
    "    input_dims= {'images' : (1,28,28), 'labels' : (1,10)},\n",
    "    decoders_dist= {'images' : 'normal', 'labels' : 'categorical'},\n",
    "    \n",
    "    alpha=2./3.,\n",
    "    beta=2.5,\n",
    "    \n",
    "    uses_likelihood_rescaling=True,\n",
    "    rescale_factors=dict(images=1, labels=50)\n",
    ")"
   ]
  },
  {
   "cell_type": "code",
   "execution_count": 34,
   "metadata": {},
   "outputs": [],
   "source": [
    "# Initialize the model\n",
    "\n",
    "# If no encoders/ decoders architectures are specified, default MLPs are used\n",
    "model = MVTCAE(model_config = model_config)"
   ]
  },
  {
   "cell_type": "code",
   "execution_count": 35,
   "metadata": {},
   "outputs": [
    {
     "data": {
      "text/plain": [
       "ModelOutput([('loss', tensor(551.1870, grad_fn=<DivBackward0>)),\n",
       "             ('metrics',\n",
       "              {'joint_divergence': tensor(21.1471, grad_fn=<MulBackward0>),\n",
       "               'images': tensor(8190.6763, grad_fn=<SumBackward0>),\n",
       "               'labels': tensor(0., grad_fn=<SumBackward0>),\n",
       "               'kld_images': tensor(20.5024, grad_fn=<SumBackward0>),\n",
       "               'kld_labels': tensor(20.0535, grad_fn=<SumBackward0>)})])"
      ]
     },
     "execution_count": 35,
     "metadata": {},
     "output_type": "execute_result"
    }
   ],
   "source": [
    "# check that everything works\n",
    "model(dataset[:10])"
   ]
  },
  {
   "cell_type": "code",
   "execution_count": 36,
   "metadata": {},
   "outputs": [
    {
     "data": {
      "text/plain": [
       "<matplotlib.image.AxesImage at 0x17f8743d0>"
      ]
     },
     "execution_count": 36,
     "metadata": {},
     "output_type": "execute_result"
    },
    {
     "data": {
      "image/png": "[encoded data removed]",
      "text/plain": [
       "<Figure size 640x480 with 1 Axes>"
      ]
     },
     "metadata": {},
     "output_type": "display_data"
    }
   ],
   "source": [
    "# Predict before training\n",
    "\n",
    "from multivae.data import MultimodalBaseDataset\n",
    "model.eval()\n",
    "data = model.predict(\n",
    "    inputs=MultimodalBaseDataset(data= dict(labels = dataset.labels_one_hot[0])),\n",
    "    cond_mod='labels',\n",
    ")\n",
    "\n",
    "\n",
    "plt.imshow(data['images'][0][0], cmap='gray')"
   ]
  },
  {
   "attachments": {},
   "cell_type": "markdown",
   "metadata": {},
   "source": [
    "## Training"
   ]
  },
  {
   "cell_type": "code",
   "execution_count": 37,
   "metadata": {},
   "outputs": [
    {
     "name": "stderr",
     "output_type": "stream",
     "text": [
      "! No eval dataset provided ! -> keeping best model on train.\n",
      "\n",
      "Model passed sanity check !\n",
      "Ready for training.\n",
      "\n",
      "Setting the optimizer with learning rate 0.01\n",
      "Created dummy_output_dir/MVTCAE_training_2023-05-27_20-32-52. \n",
      "Training config, checkpoints and final model will be saved here.\n",
      "\n",
      "Training params:\n",
      " - max_epochs: 20\n",
      " - per_device_train_batch_size: 64\n",
      " - per_device_eval_batch_size: 64\n",
      " - checkpoint saving every: None\n",
      "Optimizer: Adam (\n",
      "Parameter Group 0\n",
      "    amsgrad: False\n",
      "    betas: (0.9, 0.999)\n",
      "    capturable: False\n",
      "    differentiable: False\n",
      "    eps: 1e-08\n",
      "    foreach: None\n",
      "    fused: False\n",
      "    lr: 0.01\n",
      "    maximize: False\n",
      "    weight_decay: 0\n",
      ")\n",
      "Scheduler: None\n",
      "\n",
      "Successfully launched training !\n",
      "\n",
      "Training of epoch 1/20: 100%|██████████| 157/157 [00:04<00:00, 34.96batch/s]\n",
      "--------------------------------------------------------------------------\n",
      "Train loss: 506.6335\n",
      "--------------------------------------------------------------------------\n",
      "Training of epoch 2/20: 100%|██████████| 157/157 [00:04<00:00, 33.51batch/s]\n",
      "--------------------------------------------------------------------------\n",
      "Train loss: 505.2846\n",
      "--------------------------------------------------------------------------\n",
      "Training of epoch 3/20: 100%|██████████| 157/157 [00:04<00:00, 35.87batch/s]\n",
      "--------------------------------------------------------------------------\n",
      "Train loss: 504.9733\n",
      "--------------------------------------------------------------------------\n",
      "Training of epoch 4/20: 100%|██████████| 157/157 [00:04<00:00, 31.44batch/s]\n",
      "--------------------------------------------------------------------------\n",
      "Train loss: 504.8256\n",
      "--------------------------------------------------------------------------\n",
      "Training of epoch 5/20: 100%|██████████| 157/157 [00:04<00:00, 37.18batch/s]\n",
      "--------------------------------------------------------------------------\n",
      "Train loss: 504.7827\n",
      "--------------------------------------------------------------------------\n",
      "Training of epoch 6/20: 100%|██████████| 157/157 [00:03<00:00, 40.24batch/s]\n",
      "--------------------------------------------------------------------------\n",
      "Train loss: 504.6653\n",
      "--------------------------------------------------------------------------\n",
      "Training of epoch 7/20: 100%|██████████| 157/157 [00:03<00:00, 39.63batch/s]\n",
      "--------------------------------------------------------------------------\n",
      "Train loss: 504.637\n",
      "--------------------------------------------------------------------------\n",
      "Training of epoch 8/20: 100%|██████████| 157/157 [00:04<00:00, 36.31batch/s]\n",
      "--------------------------------------------------------------------------\n",
      "Train loss: 504.5876\n",
      "--------------------------------------------------------------------------\n",
      "Training of epoch 9/20: 100%|██████████| 157/157 [00:04<00:00, 38.16batch/s]\n",
      "--------------------------------------------------------------------------\n",
      "Train loss: 504.4599\n",
      "--------------------------------------------------------------------------\n",
      "Training of epoch 10/20: 100%|██████████| 157/157 [00:04<00:00, 32.66batch/s]\n",
      "--------------------------------------------------------------------------\n",
      "Train loss: 504.4719\n",
      "--------------------------------------------------------------------------\n",
      "Training of epoch 11/20: 100%|██████████| 157/157 [00:04<00:00, 33.46batch/s]\n",
      "--------------------------------------------------------------------------\n",
      "Train loss: 504.4819\n",
      "--------------------------------------------------------------------------\n",
      "Training of epoch 12/20: 100%|██████████| 157/157 [00:04<00:00, 37.41batch/s]\n",
      "--------------------------------------------------------------------------\n",
      "Train loss: 504.4448\n",
      "--------------------------------------------------------------------------\n",
      "Training of epoch 13/20: 100%|██████████| 157/157 [00:04<00:00, 36.28batch/s]\n",
      "--------------------------------------------------------------------------\n",
      "Train loss: 504.4187\n",
      "--------------------------------------------------------------------------\n",
      "Training of epoch 14/20: 100%|██████████| 157/157 [00:04<00:00, 35.56batch/s]\n",
      "--------------------------------------------------------------------------\n",
      "Train loss: 504.4374\n",
      "--------------------------------------------------------------------------\n",
      "Training of epoch 15/20: 100%|██████████| 157/157 [00:05<00:00, 30.38batch/s]\n",
      "--------------------------------------------------------------------------\n",
      "Train loss: 504.4175\n",
      "--------------------------------------------------------------------------\n",
      "Training of epoch 16/20: 100%|██████████| 157/157 [00:04<00:00, 33.09batch/s]\n",
      "--------------------------------------------------------------------------\n",
      "Train loss: 504.3766\n",
      "--------------------------------------------------------------------------\n",
      "Training of epoch 17/20: 100%|██████████| 157/157 [00:04<00:00, 35.05batch/s]\n",
      "--------------------------------------------------------------------------\n",
      "Train loss: 504.3832\n",
      "--------------------------------------------------------------------------\n",
      "Training of epoch 18/20: 100%|██████████| 157/157 [00:03<00:00, 39.48batch/s]\n",
      "--------------------------------------------------------------------------\n",
      "Train loss: 504.379\n",
      "--------------------------------------------------------------------------\n",
      "Training of epoch 19/20: 100%|██████████| 157/157 [00:03<00:00, 39.91batch/s]\n",
      "--------------------------------------------------------------------------\n",
      "Train loss: 504.385\n",
      "--------------------------------------------------------------------------\n",
      "Training of epoch 20/20: 100%|██████████| 157/157 [00:03<00:00, 40.76batch/s]\n",
      "--------------------------------------------------------------------------\n",
      "Train loss: 504.3453\n",
      "--------------------------------------------------------------------------\n",
      "Training ended!\n",
      "Saved final model in dummy_output_dir/MVTCAE_training_2023-05-27_20-32-52/final_model\n"
     ]
    }
   ],
   "source": [
    "from multivae.trainers import BaseTrainer, BaseTrainerConfig\n",
    "\n",
    "trainer_config = BaseTrainerConfig(\n",
    "    num_epochs=20,\n",
    "    learning_rate=1e-2,\n",
    "    \n",
    ")\n",
    "\n",
    "trainer = BaseTrainer(\n",
    "    model=model,\n",
    "    training_config=trainer_config,\n",
    "    train_dataset=dataset\n",
    "    )\n",
    "\n",
    "trainer.train()"
   ]
  },
  {
   "cell_type": "code",
   "execution_count": 38,
   "metadata": {},
   "outputs": [
    {
     "data": {
      "image/png": "[encoded data removed]",
      "text/plain": [
       "<Figure size 640x480 with 4 Axes>"
      ]
     },
     "metadata": {},
     "output_type": "display_data"
    }
   ],
   "source": [
    "# Predict before training\n",
    "\n",
    "from multivae.data import MultimodalBaseDataset\n",
    "\n",
    "# images from label : show a few samples \n",
    "data = model.predict(\n",
    "    inputs=dataset[0],\n",
    "    cond_mod='labels',\n",
    "    N = 4\n",
    ")\n",
    "\n",
    "fig, ax = plt.subplots(1,4)\n",
    "for i in range(4):\n",
    "    ax[i].imshow(data['images'][i][0][0], cmap='gray')"
   ]
  },
  {
   "cell_type": "code",
   "execution_count": 39,
   "metadata": {},
   "outputs": [
    {
     "name": "stdout",
     "output_type": "stream",
     "text": [
      "tensor([[2]])\n",
      "tensor([[2]])\n",
      "tensor([[7]])\n",
      "tensor([[2]])\n"
     ]
    }
   ],
   "source": [
    "import torch\n",
    "# predict labels from images \n",
    "data = model.predict(\n",
    "    inputs=dataset[0],\n",
    "    cond_mod='images',\n",
    "    N = 4\n",
    ")\n",
    "\n",
    "for i in range(4):\n",
    "    print(torch.argmax(data['labels'][i], dim=-1))\n",
    "    "
   ]
  },
  {
   "cell_type": "code",
   "execution_count": null,
   "metadata": {},
   "outputs": [],
   "source": []
  }
 ],
 "metadata": {
  "kernelspec": {
   "display_name": ".venv",
   "language": "python",
   "name": "python3"
  },
  "language_info": {
   "codemirror_mode": {
    "name": "ipython",
    "version": 3
   },
   "file_extension": ".py",
   "mimetype": "text/x-python",
   "name": "python",
   "nbconvert_exporter": "python",
   "pygments_lexer": "ipython3",
   "version": "3.9.10"
  },
  "orig_nbformat": 4
 },
 "nbformat": 4,
 "nbformat_minor": 2
}
