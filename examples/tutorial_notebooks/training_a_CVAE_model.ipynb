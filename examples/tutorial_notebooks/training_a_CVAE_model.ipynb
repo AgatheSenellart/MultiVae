{
 "cells": [
  {
   "cell_type": "markdown",
   "metadata": {},
   "source": [
    "# Training a CVAE model on MNIST\n",
    "\n",
    "In this notebook, we demonstrate how to train a Conditional Variational Autoencoder (CVAE) model on the dataset MNIST. \n"
   ]
  },
  {
   "cell_type": "code",
   "execution_count": 1,
   "metadata": {},
   "outputs": [],
   "source": [
    "from multivae.data.datasets.mnist_labels import MnistLabels\n",
    "from torch.utils.data import random_split\n",
    "\n",
    "# Set the path where you want the data to be downloaded\n",
    "DATA_PATH = \"/home/asenella/data\"\n",
    "# Set the paths where you want the models to be saved\n",
    "SAVE_PATH = \"/home/asenella/experiments/cvae_mnist_labels\"\n",
    "\n",
    "trainset = MnistLabels(DATA_PATH, split=\"train\", download=True)\n",
    "trainset, evalset = random_split(trainset, [0.8, 0.2])\n",
    "testset = MnistLabels(DATA_PATH, split=\"test\", download=True)"
   ]
  },
  {
   "cell_type": "markdown",
   "metadata": {},
   "source": [
    "## Train the model with default architectures\n",
    "\n",
    "In this section, we use the default MLP architectures for the CVAE model. \n",
    "First we define the model configuration and instantiate the model. "
   ]
  },
  {
   "cell_type": "code",
   "execution_count": 2,
   "metadata": {},
   "outputs": [],
   "source": [
    "from multivae.models import CVAE, CVAEConfig\n",
    "\n",
    "model_config = CVAEConfig(\n",
    "    latent_dim=16,\n",
    "    input_dims=dict(images=(1, 28, 28), labels=(10,)),\n",
    "    conditioning_modalities=[\"labels\"],\n",
    "    main_modality=\"images\",\n",
    "    decoder_dist=\"bernoulli\",\n",
    ")\n",
    "\n",
    "model = CVAE(model_config)"
   ]
  },
  {
   "cell_type": "markdown",
   "metadata": {},
   "source": [
    "Then we instantiate the trainer and train the model."
   ]
  },
  {
   "cell_type": "code",
   "execution_count": 3,
   "metadata": {},
   "outputs": [
    {
     "name": "stderr",
     "output_type": "stream",
     "text": [
      "/home/asenella/miniconda3/envs/multivaenv/lib/python3.10/site-packages/tqdm/auto.py:21: TqdmWarning: IProgress not found. Please update jupyter and ipywidgets. See https://ipywidgets.readthedocs.io/en/stable/user_install.html\n",
      "  from .autonotebook import tqdm as notebook_tqdm\n",
      "Model passed sanity check !\n",
      "Ready for training.\n",
      "\n",
      "Setting the optimizer with learning rate 0.001\n",
      "Created /home/asenella/experiments/cvae_mnist_labels/CVAE_training_2025-03-24_11-10-02. \n",
      "Training config, checkpoints and final model will be saved here.\n",
      "\n",
      "Training params:\n",
      " - max_epochs: 20\n",
      " - per_device_train_batch_size: 128\n",
      " - per_device_eval_batch_size: 128\n",
      " - checkpoint saving every: None\n",
      "Optimizer: Adam (\n",
      "Parameter Group 0\n",
      "    amsgrad: False\n",
      "    betas: (0.9, 0.999)\n",
      "    capturable: False\n",
      "    differentiable: False\n",
      "    eps: 1e-08\n",
      "    foreach: None\n",
      "    fused: None\n",
      "    lr: 0.001\n",
      "    maximize: False\n",
      "    weight_decay: 0\n",
      ")\n",
      "Scheduler: None\n",
      "\n",
      "Successfully launched training !\n",
      "\n",
      "Training of epoch 1/20:  99%|█████████▉| 373/375 [00:15<00:00, 24.87batch/s]New best model on eval saved!\n",
      "Training of epoch 1/20: 100%|██████████| 375/375 [00:19<00:00, 19.62batch/s]\n",
      "Eval of epoch 1/20: 100%|██████████| 94/94 [00:03<00:00, 29.63batch/s]\n",
      "--------------------------------------------------------------------------\n",
      "Train loss: 4.2887\n",
      "Eval loss: 4.2533\n",
      "--------------------------------------------------------------------------\n",
      "Training of epoch 2/20: 100%|█████████▉| 374/375 [00:15<00:00, 23.76batch/s]New best model on eval saved!\n",
      "Training of epoch 2/20: 100%|██████████| 375/375 [00:19<00:00, 19.72batch/s]\n",
      "Eval of epoch 2/20: 100%|██████████| 94/94 [00:03<00:00, 29.17batch/s]\n",
      "--------------------------------------------------------------------------\n",
      "Train loss: 4.2365\n",
      "Eval loss: 4.2442\n",
      "--------------------------------------------------------------------------\n",
      "Training of epoch 3/20: 100%|█████████▉| 374/375 [00:15<00:00, 24.87batch/s]New best model on eval saved!\n",
      "Training of epoch 3/20: 100%|██████████| 375/375 [00:18<00:00, 19.92batch/s]\n",
      "Eval of epoch 3/20: 100%|██████████| 94/94 [00:03<00:00, 30.08batch/s]\n",
      "--------------------------------------------------------------------------\n",
      "Train loss: 4.2309\n",
      "Eval loss: 4.2413\n",
      "--------------------------------------------------------------------------\n",
      "Training of epoch 4/20: 100%|█████████▉| 374/375 [00:15<00:00, 25.31batch/s]New best model on eval saved!\n",
      "Training of epoch 4/20: 100%|██████████| 375/375 [00:18<00:00, 20.18batch/s]\n",
      "Eval of epoch 4/20: 100%|██████████| 94/94 [00:03<00:00, 30.04batch/s]\n",
      "--------------------------------------------------------------------------\n",
      "Train loss: 4.2287\n",
      "Eval loss: 4.2391\n",
      "--------------------------------------------------------------------------\n",
      "Training of epoch 5/20: 100%|█████████▉| 374/375 [00:15<00:00, 24.80batch/s]New best model on eval saved!\n",
      "Training of epoch 5/20: 100%|██████████| 375/375 [00:18<00:00, 20.29batch/s]\n",
      "Eval of epoch 5/20: 100%|██████████| 94/94 [00:03<00:00, 29.55batch/s]\n",
      "--------------------------------------------------------------------------\n",
      "Train loss: 4.2262\n",
      "Eval loss: 4.2373\n",
      "--------------------------------------------------------------------------\n",
      "Training of epoch 6/20: 100%|██████████| 375/375 [00:19<00:00, 19.34batch/s]\n",
      "Eval of epoch 6/20: 100%|██████████| 94/94 [00:03<00:00, 23.83batch/s]\n",
      "--------------------------------------------------------------------------\n",
      "Train loss: 4.2252\n",
      "Eval loss: 4.2375\n",
      "--------------------------------------------------------------------------\n",
      "Training of epoch 7/20: 100%|█████████▉| 374/375 [00:16<00:00, 22.60batch/s]New best model on eval saved!\n",
      "Training of epoch 7/20: 100%|██████████| 375/375 [00:19<00:00, 18.77batch/s]\n",
      "Eval of epoch 7/20: 100%|██████████| 94/94 [00:03<00:00, 28.20batch/s]\n",
      "--------------------------------------------------------------------------\n",
      "Train loss: 4.2245\n",
      "Eval loss: 4.2364\n",
      "--------------------------------------------------------------------------\n",
      "Training of epoch 8/20: 100%|█████████▉| 374/375 [00:15<00:00, 24.91batch/s]New best model on eval saved!\n",
      "Training of epoch 8/20: 100%|██████████| 375/375 [00:18<00:00, 20.10batch/s]\n",
      "Eval of epoch 8/20: 100%|██████████| 94/94 [00:03<00:00, 28.64batch/s]\n",
      "--------------------------------------------------------------------------\n",
      "Train loss: 4.2239\n",
      "Eval loss: 4.2351\n",
      "--------------------------------------------------------------------------\n",
      "Training of epoch 9/20: 100%|█████████▉| 374/375 [00:15<00:00, 24.73batch/s]New best model on eval saved!\n",
      "Training of epoch 9/20: 100%|██████████| 375/375 [00:18<00:00, 19.97batch/s]\n",
      "Eval of epoch 9/20: 100%|██████████| 94/94 [00:03<00:00, 29.61batch/s]\n",
      "--------------------------------------------------------------------------\n",
      "Train loss: 4.223\n",
      "Eval loss: 4.2349\n",
      "--------------------------------------------------------------------------\n",
      "Training of epoch 10/20: 100%|█████████▉| 374/375 [00:15<00:00, 25.00batch/s]New best model on eval saved!\n",
      "Training of epoch 10/20: 100%|██████████| 375/375 [00:18<00:00, 19.75batch/s]\n",
      "Eval of epoch 10/20: 100%|██████████| 94/94 [00:03<00:00, 29.44batch/s]\n",
      "--------------------------------------------------------------------------\n",
      "Train loss: 4.2224\n",
      "Eval loss: 4.2342\n",
      "--------------------------------------------------------------------------\n",
      "Training of epoch 11/20: 100%|█████████▉| 374/375 [00:15<00:00, 24.29batch/s]New best model on eval saved!\n",
      "Training of epoch 11/20: 100%|██████████| 375/375 [00:18<00:00, 19.81batch/s]\n",
      "Eval of epoch 11/20: 100%|██████████| 94/94 [00:03<00:00, 29.04batch/s]\n",
      "--------------------------------------------------------------------------\n",
      "Train loss: 4.2214\n",
      "Eval loss: 4.2333\n",
      "--------------------------------------------------------------------------\n",
      "Training of epoch 12/20: 100%|█████████▉| 374/375 [00:15<00:00, 24.01batch/s]New best model on eval saved!\n",
      "Training of epoch 12/20: 100%|██████████| 375/375 [00:18<00:00, 20.10batch/s]\n",
      "Eval of epoch 12/20: 100%|██████████| 94/94 [00:03<00:00, 28.96batch/s]\n",
      "--------------------------------------------------------------------------\n",
      "Train loss: 4.2211\n",
      "Eval loss: 4.233\n",
      "--------------------------------------------------------------------------\n",
      "Training of epoch 13/20: 100%|█████████▉| 374/375 [00:15<00:00, 25.19batch/s]New best model on eval saved!\n",
      "Training of epoch 13/20: 100%|██████████| 375/375 [00:18<00:00, 20.51batch/s]\n",
      "Eval of epoch 13/20: 100%|██████████| 94/94 [00:03<00:00, 30.08batch/s]\n",
      "--------------------------------------------------------------------------\n",
      "Train loss: 4.2207\n",
      "Eval loss: 4.2325\n",
      "--------------------------------------------------------------------------\n",
      "Training of epoch 14/20: 100%|█████████▉| 374/375 [00:15<00:00, 22.45batch/s]New best model on eval saved!\n",
      "Training of epoch 14/20: 100%|██████████| 375/375 [00:18<00:00, 19.93batch/s]\n",
      "Eval of epoch 14/20: 100%|██████████| 94/94 [00:03<00:00, 29.43batch/s]\n",
      "--------------------------------------------------------------------------\n",
      "Train loss: 4.2201\n",
      "Eval loss: 4.2318\n",
      "--------------------------------------------------------------------------\n",
      "Training of epoch 15/20: 100%|█████████▉| 374/375 [00:15<00:00, 24.38batch/s]New best model on eval saved!\n",
      "Training of epoch 15/20: 100%|██████████| 375/375 [00:18<00:00, 20.28batch/s]\n",
      "Eval of epoch 15/20: 100%|██████████| 94/94 [00:03<00:00, 28.93batch/s]\n",
      "--------------------------------------------------------------------------\n",
      "Train loss: 4.2195\n",
      "Eval loss: 4.2312\n",
      "--------------------------------------------------------------------------\n",
      "Training of epoch 16/20: 100%|█████████▉| 374/375 [00:15<00:00, 25.87batch/s]New best model on eval saved!\n",
      "Training of epoch 16/20: 100%|██████████| 375/375 [00:18<00:00, 20.48batch/s]\n",
      "Eval of epoch 16/20: 100%|██████████| 94/94 [00:03<00:00, 29.62batch/s]\n",
      "--------------------------------------------------------------------------\n",
      "Train loss: 4.219\n",
      "Eval loss: 4.2307\n",
      "--------------------------------------------------------------------------\n",
      "Training of epoch 17/20: 100%|█████████▉| 374/375 [00:15<00:00, 24.64batch/s]New best model on eval saved!\n",
      "Training of epoch 17/20: 100%|██████████| 375/375 [00:18<00:00, 20.12batch/s]\n",
      "Eval of epoch 17/20: 100%|██████████| 94/94 [00:03<00:00, 29.82batch/s]\n",
      "--------------------------------------------------------------------------\n",
      "Train loss: 4.2186\n",
      "Eval loss: 4.2305\n",
      "--------------------------------------------------------------------------\n",
      "Training of epoch 18/20: 100%|█████████▉| 374/375 [00:15<00:00, 25.61batch/s]New best model on eval saved!\n",
      "Training of epoch 18/20: 100%|██████████| 375/375 [00:19<00:00, 19.71batch/s]\n",
      "Eval of epoch 18/20: 100%|██████████| 94/94 [00:03<00:00, 26.55batch/s]\n",
      "--------------------------------------------------------------------------\n",
      "Train loss: 4.218\n",
      "Eval loss: 4.2299\n",
      "--------------------------------------------------------------------------\n",
      "Training of epoch 19/20:  99%|█████████▉| 373/375 [00:16<00:00, 25.36batch/s]New best model on eval saved!\n",
      "Training of epoch 19/20: 100%|██████████| 375/375 [00:19<00:00, 18.96batch/s]\n",
      "Eval of epoch 19/20: 100%|██████████| 94/94 [00:03<00:00, 27.87batch/s]\n",
      "--------------------------------------------------------------------------\n",
      "Train loss: 4.2177\n",
      "Eval loss: 4.2296\n",
      "--------------------------------------------------------------------------\n",
      "Training of epoch 20/20: 100%|█████████▉| 374/375 [00:15<00:00, 24.77batch/s]New best model on eval saved!\n",
      "Training of epoch 20/20: 100%|██████████| 375/375 [00:19<00:00, 19.44batch/s]\n",
      "Eval of epoch 20/20: 100%|██████████| 94/94 [00:03<00:00, 29.06batch/s]\n",
      "--------------------------------------------------------------------------\n",
      "Train loss: 4.217\n",
      "Eval loss: 4.2285\n",
      "--------------------------------------------------------------------------\n",
      "Training ended!\n",
      "Saved final model in /home/asenella/experiments/cvae_mnist_labels/CVAE_training_2025-03-24_11-10-02/final_model\n"
     ]
    }
   ],
   "source": [
    "from multivae.trainers import BaseTrainer, BaseTrainerConfig\n",
    "\n",
    "trainer_config = BaseTrainerConfig(\n",
    "    output_dir=SAVE_PATH,\n",
    "    learning_rate=1e-3,\n",
    "    per_device_eval_batch_size=128,\n",
    "    per_device_train_batch_size=128,\n",
    "    num_epochs=20,\n",
    "    steps_predict=1,  # log images every 1 epoch\n",
    ")\n",
    "\n",
    "### Eventually use a wandb callback to monitor\n",
    "# wandb_cb = WandbCallback()\n",
    "# wandb_cb.setup(project_name='cvae_mnist', training_config=trainer_config, model_config=model_config)\n",
    "\n",
    "trainer = BaseTrainer(\n",
    "    model=model,\n",
    "    train_dataset=trainset,\n",
    "    eval_dataset=evalset,\n",
    "    training_config=trainer_config,\n",
    "    # callbacks=[wandb_cb]\n",
    ")\n",
    "\n",
    "trainer.train()"
   ]
  },
  {
   "cell_type": "code",
   "execution_count": 4,
   "metadata": {},
   "outputs": [
    {
     "data": {
      "image/jpeg": "[encoded data removed]",
      "image/png": "[encoded data removed]",
      "text/plain": [
       "<PIL.Image.Image image mode=RGB size=152x182>"
      ]
     },
     "execution_count": 4,
     "metadata": {},
     "output_type": "execute_result"
    }
   ],
   "source": [
    "# Visualize the results\n",
    "\n",
    "from multivae.metrics import Visualization, VisualizationConfig\n",
    "\n",
    "vis_config = VisualizationConfig(n_samples=5, n_data_cond=5)\n",
    "\n",
    "vis_module = Visualization(model=model, test_dataset=testset, eval_config=vis_config)\n",
    "\n",
    "vis_module.reconstruction(\"images\")"
   ]
  },
  {
   "cell_type": "code",
   "execution_count": 5,
   "metadata": {},
   "outputs": [
    {
     "name": "stderr",
     "output_type": "stream",
     "text": [
      "/home/asenella/dev/MultiVae/src/multivae/data/datasets/mnist_labels.py:93: UserWarning: Tight layout not applied. The left and right margins cannot be made large enough to accommodate all Axes decorations.\n",
      "  fig.tight_layout()\n"
     ]
    },
    {
     "data": {
      "image/jpeg": "[encoded data removed]",
      "image/png": "[encoded data removed]",
      "text/plain": [
       "<PIL.Image.Image image mode=RGB size=152x182>"
      ]
     },
     "execution_count": 5,
     "metadata": {},
     "output_type": "execute_result"
    }
   ],
   "source": [
    "vis_module.conditional_samples_subset([\"labels\"])"
   ]
  },
  {
   "cell_type": "code",
   "execution_count": 8,
   "metadata": {},
   "outputs": [
    {
     "name": "stdout",
     "output_type": "stream",
     "text": [
      "torch.Size([10, 1, 28, 28])\n"
     ]
    },
    {
     "data": {
      "text/plain": [
       "<matplotlib.image.AxesImage at 0x736679b17460>"
      ]
     },
     "execution_count": 8,
     "metadata": {},
     "output_type": "execute_result"
    },
    {
     "data": {
      "image/png": "[encoded data removed]",
      "text/plain": [
       "<Figure size 640x480 with 1 Axes>"
      ]
     },
     "metadata": {},
     "output_type": "display_data"
    }
   ],
   "source": [
    "from multivae.data.utils import set_inputs_to_device\n",
    "\n",
    "# You can also use your own script for visualization and only the encode /decode /predict functions of the model\n",
    "samples = testset[:10]\n",
    "samples = set_inputs_to_device(samples, model.device)\n",
    "# compute embeddings\n",
    "embeddings = model.encode(samples)\n",
    "\n",
    "# compute reconstructions\n",
    "output = model.predict(samples)\n",
    "\n",
    "print(output.images.shape)\n",
    "\n",
    "# Example script to visualize the first reconstruction\n",
    "\n",
    "import matplotlib.pyplot as plt\n",
    "\n",
    "recon = output.images[0].detach().cpu().numpy()\n",
    "plt.imshow(recon[0])"
   ]
  },
  {
   "cell_type": "markdown",
   "metadata": {},
   "source": [
    "## Training a CVAE using your own architectures\n"
   ]
  },
  {
   "cell_type": "code",
   "execution_count": 9,
   "metadata": {},
   "outputs": [],
   "source": [
    "# define your encoder architecture\n",
    "from multivae.models.nn.base_architectures import BaseJointEncoder, ModelOutput\n",
    "import torch\n",
    "\n",
    "\n",
    "class my_encoder(BaseJointEncoder):\n",
    "    def __init__(self, latent_dim):\n",
    "        super().__init__()\n",
    "\n",
    "        self.latent_dim = latent_dim\n",
    "\n",
    "        self.network = torch.nn.Sequential(\n",
    "            torch.nn.Linear(10 + 28 * 28, 512),\n",
    "            torch.nn.ReLU(),\n",
    "            torch.nn.Linear(512, 512),\n",
    "            torch.nn.ReLU(),\n",
    "        )\n",
    "\n",
    "        self.embedding = torch.nn.Linear(512, latent_dim)\n",
    "        self.log_var = torch.nn.Linear(512, latent_dim)\n",
    "\n",
    "    def forward(self, inputs: dict):\n",
    "        images = inputs[\"images\"].view(-1, 28 * 28)\n",
    "        labels = inputs[\"labels\"].view(-1, 10)\n",
    "\n",
    "        concat = torch.cat([images, labels], dim=1)\n",
    "        h = self.network(concat)\n",
    "\n",
    "        output = ModelOutput()\n",
    "        output[\"embedding\"] = self.embedding(h)\n",
    "        output[\"log_covariance\"] = self.log_var(h)\n",
    "\n",
    "        return output"
   ]
  },
  {
   "cell_type": "markdown",
   "metadata": {},
   "source": [
    "Pass your encoder to the model and then train it !"
   ]
  },
  {
   "cell_type": "code",
   "execution_count": 10,
   "metadata": {},
   "outputs": [],
   "source": [
    "from multivae.models import CVAE, CVAEConfig\n",
    "\n",
    "model_config = CVAEConfig(\n",
    "    latent_dim=16,\n",
    "    input_dims=dict(images=(1, 28, 28), labels=(10,)),\n",
    "    conditioning_modalities=[\"labels\"],\n",
    "    main_modality=\"images\",\n",
    "    decoder_dist=\"bernoulli\",\n",
    ")\n",
    "\n",
    "model = CVAE(model_config, encoder=my_encoder(latent_dim=16))"
   ]
  },
  {
   "cell_type": "code",
   "execution_count": 11,
   "metadata": {},
   "outputs": [
    {
     "name": "stderr",
     "output_type": "stream",
     "text": [
      "Model passed sanity check !\n",
      "Ready for training.\n",
      "\n",
      "Setting the optimizer with learning rate 0.001\n",
      "Created /home/asenella/experiments/cvae_mnist_labels/CVAE_training_2025-03-24_11-17-54. \n",
      "Training config, checkpoints and final model will be saved here.\n",
      "\n",
      "Training params:\n",
      " - max_epochs: 1\n",
      " - per_device_train_batch_size: 128\n",
      " - per_device_eval_batch_size: 128\n",
      " - checkpoint saving every: None\n",
      "Optimizer: Adam (\n",
      "Parameter Group 0\n",
      "    amsgrad: False\n",
      "    betas: (0.9, 0.999)\n",
      "    capturable: False\n",
      "    differentiable: False\n",
      "    eps: 1e-08\n",
      "    foreach: None\n",
      "    fused: None\n",
      "    lr: 0.001\n",
      "    maximize: False\n",
      "    weight_decay: 0\n",
      ")\n",
      "Scheduler: None\n",
      "\n",
      "Successfully launched training !\n",
      "\n",
      "Training of epoch 1/1:   0%|          | 0/375 [00:00<?, ?batch/s]"
     ]
    },
    {
     "name": "stderr",
     "output_type": "stream",
     "text": [
      "Training of epoch 1/1: 100%|█████████▉| 374/375 [00:15<00:00, 26.37batch/s]New best model on eval saved!\n",
      "Training of epoch 1/1: 100%|██████████| 375/375 [00:18<00:00, 20.41batch/s]\n",
      "Eval of epoch 1/1: 100%|██████████| 94/94 [00:03<00:00, 31.26batch/s]\n",
      "--------------------------------------------------------------------------\n",
      "Train loss: 4.2883\n",
      "Eval loss: 4.2522\n",
      "--------------------------------------------------------------------------\n",
      "Training ended!\n",
      "Saved final model in /home/asenella/experiments/cvae_mnist_labels/CVAE_training_2025-03-24_11-17-54/final_model\n"
     ]
    }
   ],
   "source": [
    "from multivae.trainers import BaseTrainer, BaseTrainerConfig\n",
    "\n",
    "trainer_config = BaseTrainerConfig(\n",
    "    output_dir=SAVE_PATH,\n",
    "    learning_rate=1e-3,\n",
    "    per_device_eval_batch_size=128,\n",
    "    per_device_train_batch_size=128,\n",
    "    num_epochs=1,\n",
    ")\n",
    "\n",
    "trainer = BaseTrainer(\n",
    "    model=model,\n",
    "    train_dataset=trainset,\n",
    "    eval_dataset=evalset,\n",
    "    training_config=trainer_config,\n",
    ")\n",
    "\n",
    "trainer.train()"
   ]
  },
  {
   "cell_type": "code",
   "execution_count": null,
   "metadata": {},
   "outputs": [],
   "source": []
  }
 ],
 "metadata": {
  "kernelspec": {
   "display_name": "multivaenv",
   "language": "python",
   "name": "python3"
  },
  "language_info": {
   "codemirror_mode": {
    "name": "ipython",
    "version": 3
   },
   "file_extension": ".py",
   "mimetype": "text/x-python",
   "name": "python",
   "nbconvert_exporter": "python",
   "pygments_lexer": "ipython3",
   "version": "3.10.16"
  }
 },
 "nbformat": 4,
 "nbformat_minor": 2
}
