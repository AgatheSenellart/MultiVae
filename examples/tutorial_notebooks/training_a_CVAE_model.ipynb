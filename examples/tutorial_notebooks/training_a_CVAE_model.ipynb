{
 "cells": [
  {
   "cell_type": "markdown",
   "metadata": {},
   "source": [
    "# Training a CVAE model on MNIST\n",
    "\n",
    "In this notebook, we demonstrate how to train a Conditional Variational Autoencoder (CVAE) model on the dataset MNIST. \n"
   ]
  },
  {
   "cell_type": "code",
   "execution_count": 1,
   "metadata": {},
   "outputs": [
    {
     "name": "stderr",
     "output_type": "stream",
     "text": [
      "/Users/agathe/dev/multivae_package/venv/lib/python3.10/site-packages/tqdm/auto.py:21: TqdmWarning: IProgress not found. Please update jupyter and ipywidgets. See https://ipywidgets.readthedocs.io/en/stable/user_install.html\n",
      "  from .autonotebook import tqdm as notebook_tqdm\n"
     ]
    }
   ],
   "source": [
    "from multivae.data.datasets.mnist_labels import MnistLabels\n",
    "from torch.utils.data import random_split\n",
    "\n",
    "data_path = '/Users/agathe/dev/data'\n",
    "\n",
    "trainset = MnistLabels(data_path,split='train',download=False )\n",
    "trainset, evalset = random_split(trainset, [0.8, 0.2])\n",
    "testset = MnistLabels(data_path,split='test',download=False )\n"
   ]
  },
  {
   "cell_type": "markdown",
   "metadata": {},
   "source": [
    "## Train the model with default architectures\n",
    "\n",
    "In this section, we use the default MLP architectures for the CVAE model. \n",
    "First we define the model configuration and instantiate the model. "
   ]
  },
  {
   "cell_type": "code",
   "execution_count": 2,
   "metadata": {},
   "outputs": [],
   "source": [
    "from multivae.models import CVAE, CVAEConfig\n",
    "\n",
    "model_config = CVAEConfig(\n",
    "    latent_dim=16,\n",
    "    input_dims=dict(images=(1, 28, 28), labels=(10,)),\n",
    "    conditioning_modality='labels',\n",
    "    main_modality='images',\n",
    "    decoder_dist='bernoulli'\n",
    ")\n",
    "    \n",
    "model = CVAE(model_config)"
   ]
  },
  {
   "cell_type": "markdown",
   "metadata": {},
   "source": [
    "Then we instantiate the trainer and train the model."
   ]
  },
  {
   "cell_type": "code",
   "execution_count": 4,
   "metadata": {},
   "outputs": [
    {
     "name": "stderr",
     "output_type": "stream",
     "text": [
      "Model passed sanity check !\n",
      "Ready for training.\n",
      "\n",
      "Setting the optimizer with learning rate 0.001\n",
      "Created /Users/agathe/dev/expes/CVAE_training_2025-01-17_17-49-11. \n",
      "Training config, checkpoints and final model will be saved here.\n",
      "\n",
      "Training params:\n",
      " - max_epochs: 1\n",
      " - per_device_train_batch_size: 128\n",
      " - per_device_eval_batch_size: 128\n",
      " - checkpoint saving every: None\n",
      "Optimizer: Adam (\n",
      "Parameter Group 0\n",
      "    amsgrad: False\n",
      "    betas: (0.9, 0.999)\n",
      "    capturable: False\n",
      "    differentiable: False\n",
      "    eps: 1e-08\n",
      "    foreach: None\n",
      "    fused: None\n",
      "    lr: 0.001\n",
      "    maximize: False\n",
      "    weight_decay: 0\n",
      ")\n",
      "Scheduler: None\n",
      "\n",
      "Successfully launched training !\n",
      "\n",
      "\n",
      "\u001b[A\n",
      "\u001b[A\n",
      "\u001b[A\n",
      "\u001b[A\n",
      "Training of epoch 5/20:  54%|█████▍    | 203/375 [00:23<00:06, 25.67batch/s]\n",
      "\u001b[A\n",
      "\u001b[A\n",
      "\u001b[A\n",
      "\u001b[A\n",
      "\u001b[A\n",
      "\u001b[A\n",
      "\u001b[A\n",
      "\u001b[A\n",
      "\u001b[A\n",
      "\u001b[A\n",
      "\u001b[ANew best model saved!\n",
      "Training of epoch 1/1: 100%|██████████| 375/375 [00:15<00:00, 23.59batch/s]\n",
      "Eval of epoch 1/1: 100%|██████████| 94/94 [00:01<00:00, 55.17batch/s]\n",
      "--------------------------------------------------------------------------\n",
      "Train loss: 202639.713\n",
      "Eval loss: 50762.9145\n",
      "--------------------------------------------------------------------------\n",
      "Training ended!\n",
      "Saved final model in /Users/agathe/dev/expes/CVAE_training_2025-01-17_17-49-11/final_model\n"
     ]
    }
   ],
   "source": [
    "from multivae.trainers import BaseTrainer, BaseTrainerConfig\n",
    "\n",
    "trainer_config = BaseTrainerConfig(\n",
    "    output_dir='/Users/agathe/dev/expes',\n",
    "    learning_rate=1e-3,\n",
    "    per_device_eval_batch_size=128,\n",
    "    per_device_train_batch_size=128,\n",
    "    num_epochs=1)\n",
    "\n",
    "trainer=BaseTrainer(\n",
    "    model=model,\n",
    "    train_dataset=trainset,\n",
    "    eval_dataset=evalset,\n",
    "    training_config=trainer_config\n",
    "    \n",
    ")\n",
    "\n",
    "trainer.train()"
   ]
  },
  {
   "cell_type": "code",
   "execution_count": 5,
   "metadata": {},
   "outputs": [
    {
     "data": {
      "image/jpeg": "[encoded data removed]",
      "image/png": "[encoded data removed]",
      "text/plain": [
       "<PIL.Image.Image image mode=RGB size=152x182>"
      ]
     },
     "execution_count": 5,
     "metadata": {},
     "output_type": "execute_result"
    }
   ],
   "source": [
    "# Visualize the results\n",
    "\n",
    "from multivae.metrics import Visualization, VisualizationConfig\n",
    "\n",
    "vis_config = VisualizationConfig(\n",
    "    n_samples=5, \n",
    "    n_data_cond=5\n",
    ")\n",
    "\n",
    "vis_module = Visualization(\n",
    "    model=model,\n",
    "    test_dataset=testset,\n",
    "    eval_config=vis_config\n",
    ")\n",
    "    \n",
    "vis_module.reconstruction('images')\n"
   ]
  },
  {
   "cell_type": "code",
   "execution_count": 6,
   "metadata": {},
   "outputs": [
    {
     "data": {
      "image/jpeg": "[encoded data removed]",
      "image/png": "[encoded data removed]",
      "text/plain": [
       "<PIL.Image.Image image mode=RGB size=152x182>"
      ]
     },
     "execution_count": 6,
     "metadata": {},
     "output_type": "execute_result"
    }
   ],
   "source": [
    "# Generate new images using only the labels and sampling from the prior\n",
    "vis_module.conditional_samples_subset(['labels'], gen_mod='images')"
   ]
  },
  {
   "cell_type": "code",
   "execution_count": 14,
   "metadata": {},
   "outputs": [
    {
     "name": "stdout",
     "output_type": "stream",
     "text": [
      "torch.Size([10, 1, 28, 28])\n"
     ]
    },
    {
     "data": {
      "text/plain": [
       "<matplotlib.image.AxesImage at 0x195006b60>"
      ]
     },
     "execution_count": 14,
     "metadata": {},
     "output_type": "execute_result"
    },
    {
     "data": {
      "image/png": "[encoded data removed]",
      "text/plain": [
       "<Figure size 640x480 with 1 Axes>"
      ]
     },
     "metadata": {},
     "output_type": "display_data"
    }
   ],
   "source": [
    "# You can also use your own script for visualization and only the encode /decode /predict functions of the model\n",
    "samples = testset[:10]\n",
    "\n",
    "# compute embeddings \n",
    "embeddings = model.encode(samples)\n",
    "\n",
    "# compute reconstructions\n",
    "output = model.predict(samples, cond_mod='images') \n",
    "\n",
    "print(output.reconstruction.shape)\n",
    "\n",
    "# Example script to visualize the first reconstruction\n",
    "\n",
    "# import matplotlib.pyplot as plt\n",
    "# recon = output.reconstruction[0].detach().cpu().numpy()\n",
    "# plt.imshow(recon[0])\n"
   ]
  },
  {
   "cell_type": "markdown",
   "metadata": {},
   "source": [
    "## Training a CVAE using your own architectures\n"
   ]
  },
  {
   "cell_type": "code",
   "execution_count": 5,
   "metadata": {},
   "outputs": [],
   "source": [
    "# define your encoder architecture\n",
    "from multivae.models.nn.base_architectures import BaseJointEncoder, ModelOutput\n",
    "import torch\n",
    "\n",
    "class my_encoder(BaseJointEncoder):\n",
    "    \n",
    "    def __init__(self, latent_dim):\n",
    "        super().__init__()\n",
    "        \n",
    "        self.latent_dim = latent_dim\n",
    "        \n",
    "        self.network = torch.nn.Sequential(\n",
    "            torch.nn.Linear(10+28*28,512),\n",
    "            torch.nn.ReLU(),\n",
    "            torch.nn.Linear(512,512),\n",
    "            torch.nn.ReLU())\n",
    "        \n",
    "        self.embedding = torch.nn.Linear(512,latent_dim)\n",
    "        self.log_var = torch.nn.Linear(512,latent_dim)\n",
    "        \n",
    "        \n",
    "        \n",
    "    def forward(self, inputs:dict):\n",
    "        \n",
    "        \n",
    "        images = inputs['images'].view(-1,28*28)\n",
    "        labels = inputs['labels'].view(-1, 10)\n",
    "        \n",
    "        concat = torch.cat([images, labels], dim=1)\n",
    "        h = self.network(concat)\n",
    "        \n",
    "        output = ModelOutput()\n",
    "        output['embedding'] = self.embedding(h)\n",
    "        output['log_covariance'] = self.log_var(h)\n",
    "        \n",
    "        return output\n",
    "        \n",
    "        \n",
    "        "
   ]
  },
  {
   "cell_type": "markdown",
   "metadata": {},
   "source": [
    "Pass your encoder to the model and then train it !"
   ]
  },
  {
   "cell_type": "code",
   "execution_count": 6,
   "metadata": {},
   "outputs": [],
   "source": [
    "from multivae.models import CVAE, CVAEConfig\n",
    "\n",
    "model_config = CVAEConfig(\n",
    "    latent_dim=16,\n",
    "    input_dims=dict(images=(1, 28, 28), labels=(10,)),\n",
    "    conditioning_modality='labels',\n",
    "    main_modality='images',\n",
    "    decoder_dist='bernoulli'\n",
    ")\n",
    "    \n",
    "model = CVAE(model_config, encoder=my_encoder(latent_dim=16))"
   ]
  },
  {
   "cell_type": "code",
   "execution_count": 7,
   "metadata": {},
   "outputs": [
    {
     "name": "stderr",
     "output_type": "stream",
     "text": [
      "Model passed sanity check !\n",
      "Ready for training.\n",
      "\n",
      "Setting the optimizer with learning rate 0.001\n",
      "Created /Users/agathe/dev/expes/CVAE_training_2025-01-17_18-02-35. \n",
      "Training config, checkpoints and final model will be saved here.\n",
      "\n",
      "Training params:\n",
      " - max_epochs: 1\n",
      " - per_device_train_batch_size: 128\n",
      " - per_device_eval_batch_size: 128\n",
      " - checkpoint saving every: None\n",
      "Optimizer: Adam (\n",
      "Parameter Group 0\n",
      "    amsgrad: False\n",
      "    betas: (0.9, 0.999)\n",
      "    capturable: False\n",
      "    differentiable: False\n",
      "    eps: 1e-08\n",
      "    foreach: None\n",
      "    fused: None\n",
      "    lr: 0.001\n",
      "    maximize: False\n",
      "    weight_decay: 0\n",
      ")\n",
      "Scheduler: None\n",
      "\n",
      "Successfully launched training !\n",
      "\n",
      "Training of epoch 1/1: 100%|█████████▉| 374/375 [00:23<00:00, 17.32batch/s]New best model saved!\n",
      "Training of epoch 1/1: 100%|██████████| 375/375 [00:26<00:00, 14.39batch/s]\n",
      "Eval of epoch 1/1: 100%|██████████| 94/94 [00:02<00:00, 35.92batch/s]\n",
      "--------------------------------------------------------------------------\n",
      "Train loss: 205858.7144\n",
      "Eval loss: 51046.1335\n",
      "--------------------------------------------------------------------------\n",
      "Training ended!\n",
      "Saved final model in /Users/agathe/dev/expes/CVAE_training_2025-01-17_18-02-35/final_model\n"
     ]
    }
   ],
   "source": [
    "from multivae.trainers import BaseTrainer, BaseTrainerConfig\n",
    "\n",
    "trainer_config = BaseTrainerConfig(\n",
    "    output_dir='/Users/agathe/dev/expes',\n",
    "    learning_rate=1e-3,\n",
    "    per_device_eval_batch_size=128,\n",
    "    per_device_train_batch_size=128,\n",
    "    num_epochs=1)\n",
    "\n",
    "trainer=BaseTrainer(\n",
    "    model=model,\n",
    "    train_dataset=trainset,\n",
    "    eval_dataset=evalset,\n",
    "    training_config=trainer_config\n",
    "    \n",
    ")\n",
    "\n",
    "trainer.train()"
   ]
  },
  {
   "cell_type": "code",
   "execution_count": null,
   "metadata": {},
   "outputs": [],
   "source": []
  }
 ],
 "metadata": {
  "kernelspec": {
   "display_name": "venv",
   "language": "python",
   "name": "python3"
  },
  "language_info": {
   "codemirror_mode": {
    "name": "ipython",
    "version": 3
   },
   "file_extension": ".py",
   "mimetype": "text/x-python",
   "name": "python",
   "nbconvert_exporter": "python",
   "pygments_lexer": "ipython3",
   "version": "3.10.2"
  }
 },
 "nbformat": 4,
 "nbformat_minor": 2
}
