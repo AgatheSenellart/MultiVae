{
 "cells": [
  {
   "attachments": {},
   "cell_type": "markdown",
   "metadata": {},
   "source": [
    "# Learning with partial data\n",
    "\n",
    "In this tutorial we detail an example on how to define a partially observed dataset compatible with MultiVae models. "
   ]
  },
  {
   "attachments": {},
   "cell_type": "markdown",
   "metadata": {},
   "source": [
    "## Incomplete dataset\n",
    "\n",
    "The MultiVae library has an simple class to handle incomplete datasets: the IncompleteDataset class. \n",
    "\n",
    "Below we demonstrate how to initialize an dataset from tensors using this class. "
   ]
  },
  {
   "cell_type": "code",
   "execution_count": 7,
   "metadata": {},
   "outputs": [],
   "source": [
    "from multivae.data.datasets import IncompleteDataset, DatasetOutput\n",
    "import torch\n",
    "\n",
    "# Define random data samples\n",
    "data = dict(\n",
    "    modality_1 = torch.randn((100,3,32,32)),\n",
    "    modality_2 = torch.randn((100, 1, 28, 28))\n",
    ")\n",
    "# Define random masks \n",
    "masks = dict(\n",
    "    modality_1 = torch.bernoulli(0.7*torch.ones((100,))),\n",
    "    modality_2 = torch.ones((100,))\n",
    ")\n",
    "\n",
    "labels = torch.bernoulli(0.5*torch.ones((100,)))\n",
    "\n",
    "dataset = IncompleteDataset(data, masks, labels)\n"
   ]
  },
  {
   "attachments": {},
   "cell_type": "markdown",
   "metadata": {},
   "source": [
    "But you can also define completely custom dataset with the same structure as the IncompleteDataset Class:\n",
    "- the get_item method must return a `DatasetOutput`instance with a field `data`containing a dictionary, `masks` containing also a dictionary, and an optional `labels`field containing a tensor. \n",
    "\n",
    "As an example, check out the MMNIST dataset class in `multivae.data.datasets.mmnist`. That dataset has five image modalities and can be initialized with partially missing data.\n",
    "\n",
    "\n",
    "The following models in MultiVae can be trained using partially observed data:\n",
    "- MMVAE\n",
    "- MVAE\n",
    "- MoPoE\n",
    "- MVTCAE\n",
    "- MMVAE+\n",
    "\n",
    "using the exact same training process as complete dataset. "
   ]
  },
  {
   "cell_type": "code",
   "execution_count": null,
   "metadata": {},
   "outputs": [],
   "source": [
    "from multivae.data.datasets.mmnist import MMNISTDataset\n",
    "\n",
    "dataset = MMNISTDataset(data_path = '../../../data/',\n",
    "                        download=True,\n",
    "                        missing_ratio=0.2)"
   ]
  },
  {
   "cell_type": "code",
   "execution_count": null,
   "metadata": {},
   "outputs": [],
   "source": []
  }
 ],
 "metadata": {
  "kernelspec": {
   "display_name": ".venv",
   "language": "python",
   "name": "python3"
  },
  "language_info": {
   "codemirror_mode": {
    "name": "ipython",
    "version": 3
   },
   "file_extension": ".py",
   "mimetype": "text/x-python",
   "name": "python",
   "nbconvert_exporter": "python",
   "pygments_lexer": "ipython3",
   "version": "3.10.9"
  },
  "orig_nbformat": 4
 },
 "nbformat": 4,
 "nbformat_minor": 2
}
