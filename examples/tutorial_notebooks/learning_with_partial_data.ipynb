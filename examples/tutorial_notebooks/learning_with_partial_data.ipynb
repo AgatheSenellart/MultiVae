{
 "cells": [
  {
   "attachments": {},
   "cell_type": "markdown",
   "metadata": {},
   "source": [
    "# Learning with partial data\n",
    "\n",
    "In this tutorial we detail an example on how to define a partially observed dataset compatible with MultiVae models. "
   ]
  },
  {
   "attachments": {},
   "cell_type": "markdown",
   "metadata": {},
   "source": [
    "## Incomplete dataset\n",
    "\n",
    "The MultiVae library has an simple class to handle incomplete datasets: the IncompleteDataset class that inherits from `torch.utils.data.Dataset`class. The `__getitem__` method returns a `pythae.data.DatasetOutput`with a `data`field and a `masks`field. \n",
    "Both are dictionaries containing tensors for each modality. The masks are boolean tensors with `True`values where the modality data is available.\n",
    "\n",
    "Below we demonstrate how to initialize a simple dataset from tensors using this class. "
   ]
  },
  {
   "cell_type": "code",
   "execution_count": 1,
   "metadata": {},
   "outputs": [],
   "source": [
    "from multivae.data.datasets import IncompleteDataset, DatasetOutput\n",
    "import torch\n",
    "\n",
    "# Define random data samples\n",
    "data = dict(\n",
    "    modality_1 = torch.randn((100,3,16,16)),\n",
    "    modality_2 = torch.randn((100, 1, 10, 10))\n",
    ")\n",
    "# Define random masks : masks are boolean tensors: True indicates the modality is available. \n",
    "masks = dict(\n",
    "    modality_1 = torch.bernoulli(0.7*torch.ones((100,))).bool(),\n",
    "    modality_2 = torch.ones((100,)).bool()\n",
    ")\n",
    "\n",
    "# Arbitrary labels (optional)\n",
    "labels = torch.bernoulli(0.5*torch.ones((100,)))\n",
    "\n",
    "dataset = IncompleteDataset(data, masks, labels)\n",
    "dataset_without_labels = IncompleteDataset(data, masks)"
   ]
  },
  {
   "attachments": {},
   "cell_type": "markdown",
   "metadata": {},
   "source": [
    "But you can also define completely custom dataset with the same structure as the IncompleteDataset Class:\n",
    "- the `__getitem__` method must return a `DatasetOutput` instance with a field `data` containing a dictionary, `masks` containing also a dictionary, and an optional `labels` field containing a tensor. \n",
    "\n",
    "Below, we provide a very simple example. "
   ]
  },
  {
   "cell_type": "code",
   "execution_count": 6,
   "metadata": {},
   "outputs": [],
   "source": [
    "from multivae.data.datasets import IncompleteDataset, DatasetOutput\n",
    "from torch import Tensor\n",
    "\n",
    "class my_custom_partial_dataset(IncompleteDataset):\n",
    "    \n",
    "    def __init__(self, shape_1, shape_2) -> None:\n",
    "        \n",
    "        self.shape_1 = shape_1\n",
    "        self.shape_2 = shape_2\n",
    "        \n",
    "    def __getitem__(self, index):\n",
    "        \n",
    "        # return a random data point with a mask\n",
    "        data = dict(\n",
    "            mod1 = torch.randn(self.shape_1),\n",
    "            mod2 = torch.randn(self.shape_2)\n",
    "        )\n",
    "        masks = dict(\n",
    "            mod1 = torch.tensor([index%4==1]),\n",
    "            mod2 = torch.tensor([index%4 == 3]))\n",
    "            \n",
    "        return DatasetOutput(data=data, masks=masks)\n",
    "    \n",
    "    def __len__(self):\n",
    "        return 100\n",
    "            \n",
    "\n",
    "dataset = my_custom_partial_dataset((2,23,4), (1,4))\n"
   ]
  },
  {
   "cell_type": "markdown",
   "metadata": {},
   "source": [
    "For a more realistic example, check out the MMNISTDataset class in `multivae.data.datasets.mmnist`. That dataset has five image modalities and can be initialized with partially missing data.\n",
    "\n",
    "\n",
    "The following models in MultiVae can be trained using partially observed data:\n",
    "- MMVAE\n",
    "- MVAE\n",
    "- MoPoE\n",
    "- MVTCAE\n",
    "- MMVAE+\n",
    "- DMVAE\n",
    "- CMVAE\n",
    "\n",
    "using the exact same training process as complete dataset. \n",
    "\n",
    "In each batch, the losses components corresponding to missing modalities are filtered out using the provided mask in a way that respect the ELBO formulation.\n",
    "\n",
    "![image](../../static/handling_incomplete.png)\n"
   ]
  },
  {
   "cell_type": "markdown",
   "metadata": {},
   "source": [
    "Below we instantiate a partial PolyMNIST dataset:"
   ]
  },
  {
   "cell_type": "code",
   "execution_count": 7,
   "metadata": {},
   "outputs": [],
   "source": [
    "from multivae.data.datasets.mmnist import MMNISTDataset\n",
    "\n",
    "dataset = MMNISTDataset(data_path = '~/scratch/data/',\n",
    "                        split='train',\n",
    "                        # download=True,\n",
    "                        missing_ratio=0.2) # Here we create missing at random blanks in the dataset"
   ]
  },
  {
   "attachments": {},
   "cell_type": "markdown",
   "metadata": {},
   "source": [
    "A simple example of a model trained on this incomplete dataset. "
   ]
  },
  {
   "cell_type": "code",
   "execution_count": 9,
   "metadata": {},
   "outputs": [
    {
     "name": "stderr",
     "output_type": "stream",
     "text": [
      "! No eval dataset provided ! -> keeping best model on train.\n",
      "\n",
      "Model passed sanity check !\n",
      "Ready for training.\n",
      "\n",
      "Setting the optimizer with learning rate 0.001\n",
      "Created dummy_output_dir/MVTCAE_training_2023-06-14_10-17-24. \n",
      "Training config, checkpoints and final model will be saved here.\n",
      "\n",
      "Training params:\n",
      " - max_epochs: 1\n",
      " - per_device_train_batch_size: 64\n",
      " - per_device_eval_batch_size: 64\n",
      " - checkpoint saving every: None\n",
      "Optimizer: Adam (\n",
      "Parameter Group 0\n",
      "    amsgrad: False\n",
      "    betas: (0.9, 0.999)\n",
      "    capturable: False\n",
      "    differentiable: False\n",
      "    eps: 1e-08\n",
      "    foreach: None\n",
      "    fused: None\n",
      "    lr: 0.001\n",
      "    maximize: False\n",
      "    weight_decay: 0\n",
      ")\n",
      "Scheduler: None\n",
      "\n",
      "Successfully launched training !\n",
      "\n",
      "Training of epoch 1/1: 100%|██████████| 938/938 [01:24<00:00, 11.06batch/s]]\n",
      "--------------------------------------------------------------------------\n",
      "Train loss: 9151.6141\n",
      "--------------------------------------------------------------------------\n",
      "Training ended!\n",
      "Saved final model in dummy_output_dir/MVTCAE_training_2023-06-14_10-17-24/final_model\n"
     ]
    }
   ],
   "source": [
    "# define a model\n",
    "\n",
    "from multivae.models import MVTCAE, MVTCAEConfig\n",
    "\n",
    "model_config = MVTCAEConfig(\n",
    "    n_modalities = 5,\n",
    "    input_dims= {f'm{i}' : (3,28,28) for i in range(5)},\n",
    "    latent_dim=32,\n",
    ")\n",
    "\n",
    "model = MVTCAE(model_config)\n",
    "\n",
    "# Define a trainer\n",
    "from multivae.trainers import BaseTrainer, BaseTrainerConfig\n",
    "\n",
    "training_config = BaseTrainerConfig(\n",
    "    learning_rate=1e-3, \n",
    "    num_epochs=1\n",
    ")\n",
    "\n",
    "trainer = BaseTrainer(model , dataset, training_config=training_config)\n",
    "\n",
    "trainer.train()\n"
   ]
  },
  {
   "attachments": {},
   "cell_type": "markdown",
   "metadata": {},
   "source": [
    "For a complete example of training and validation of models on the partially observed PolyMNIST dataset, scripts are provided at \n",
    "https://github.com/AgatheSenellart/nips_experiments. "
   ]
  },
  {
   "cell_type": "code",
   "execution_count": null,
   "metadata": {},
   "outputs": [],
   "source": []
  }
 ],
 "metadata": {
  "kernelspec": {
   "display_name": ".venv",
   "language": "python",
   "name": "python3"
  },
  "language_info": {
   "codemirror_mode": {
    "name": "ipython",
    "version": 3
   },
   "file_extension": ".py",
   "mimetype": "text/x-python",
   "name": "python",
   "nbconvert_exporter": "python",
   "pygments_lexer": "ipython3",
   "version": "3.10.9"
  },
  "orig_nbformat": 4
 },
 "nbformat": 4,
 "nbformat_minor": 2
}
